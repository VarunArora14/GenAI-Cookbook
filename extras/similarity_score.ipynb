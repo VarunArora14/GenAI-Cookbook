{
 "cells": [
  {
   "attachments": {
    "image.png": {
     "image/png": "[encoded data removed]"
    }
   },
   "cell_type": "markdown",
   "metadata": {},
   "source": [
    "### Similarity Score\n",
    "\n",
    "When doing similarity search using vector databases, we search for k closest vectors. But how does that work internally?\n",
    "\n",
    "Answer is that each question is converted to a corresponding embedding and then a distance strategy is used to find distance between the vectors. For FAISS, the distance strategy is set to DistanceStrategy.EUCLIDEAN_DISTANCE by default.\n",
    "\n",
    "Now, if we want similarity score to be between -1 to 1, we must use cosine similarity for search similarity score. Here I will demonstrate how to use cosine similarity and compare vectors for their similarity score.\n",
    "\n",
    "Here 1 means vectors are same and -1 means vectors are opposite\n",
    "\n",
    "![image.png](attachment:image.png)\n",
    "\n",
    "The above is formula for cosine similarity where `a` and `b` are 2 vectors(embeddings of a string)\n",
    "\n",
    "We will take user query and make vector embeddings as vector `a` and then for all docs in vectorDB, run this formula for vectors of each chunk/document. Then we sort it based on highest similarity"
   ]
  },
  {
   "cell_type": "code",
   "execution_count": 1,
   "metadata": {},
   "outputs": [
    {
     "name": "stdout",
     "output_type": "stream",
     "text": [
      "Note: you may need to restart the kernel to use updated packages.\n"
     ]
    }
   ],
   "source": [
    "%pip install -q langchain langchain-community langchain-text-splitters scikit-learn"
   ]
  },
  {
   "cell_type": "markdown",
   "metadata": {},
   "source": [
    "### Chunk the pdf into chunks and convert them to documents\n",
    "\n",
    "- load the pdf using langchain PyPDFLoader\n",
    "- chunk into sizes of 250 with 20 overlap for context via RecursiveCharacterTextSplitter"
   ]
  },
  {
   "cell_type": "code",
   "execution_count": 2,
   "metadata": {},
   "outputs": [],
   "source": [
    "from langchain_community.document_loaders import PyPDFLoader\n",
    "from langchain_text_splitters import RecursiveCharacterTextSplitter\n",
    "\n",
    "file_path = \"../data/who_stats_2022.pdf\"\n",
    "\n",
    "loader = PyPDFLoader(file_path=file_path)\n",
    "text_splitter = RecursiveCharacterTextSplitter(\n",
    "    # Set a really small chunk size, just to show.\n",
    "    chunk_size=250,\n",
    "    chunk_overlap=20,\n",
    ")\n",
    "\n",
    "pdf_pages = loader.load_and_split(text_splitter=text_splitter)\n"
   ]
  },
  {
   "cell_type": "code",
   "execution_count": 3,
   "metadata": {},
   "outputs": [
    {
     "data": {
      "text/plain": [
       "2405"
      ]
     },
     "execution_count": 3,
     "metadata": {},
     "output_type": "execute_result"
    }
   ],
   "source": [
    "len(pdf_pages)"
   ]
  },
  {
   "cell_type": "code",
   "execution_count": 4,
   "metadata": {},
   "outputs": [
    {
     "data": {
      "text/plain": [
       "{'id': None,\n",
       " 'metadata': {'source': '../data/who_stats_2022.pdf', 'page': 8},\n",
       " 'page_content': '33% in 2000. The number of adults aged 30–79 years with raised blood pressure (hypertension) is estimated \\nto have almost doubled to 1.28 billion between 1990 and 2019, mainly due to population growth and ageing.',\n",
       " 'type': 'Document'}"
      ]
     },
     "execution_count": 4,
     "metadata": {},
     "output_type": "execute_result"
    }
   ],
   "source": [
    "vars(pdf_pages[100])"
   ]
  },
  {
   "cell_type": "markdown",
   "metadata": {},
   "source": [
    "#### We want similarity score of chunks with this query\n",
    "\n",
    "For this we have to create embeddings for each page_content as well"
   ]
  },
  {
   "cell_type": "code",
   "execution_count": 5,
   "metadata": {},
   "outputs": [],
   "source": [
    "query = \"What was effect of covid 19 in middle east?\""
   ]
  },
  {
   "cell_type": "code",
   "execution_count": 6,
   "metadata": {},
   "outputs": [],
   "source": [
    "chunk_texts = [p.page_content for p in pdf_pages] # get only texts as we focus on similarity score"
   ]
  },
  {
   "cell_type": "markdown",
   "metadata": {},
   "source": [
    "#### Create embeddings using Hugging face functions"
   ]
  },
  {
   "cell_type": "code",
   "execution_count": 7,
   "metadata": {},
   "outputs": [
    {
     "name": "stderr",
     "output_type": "stream",
     "text": [
      "C:\\Users\\VARUN ARORA\\AppData\\Local\\Temp\\ipykernel_11180\\1287374911.py:6: LangChainDeprecationWarning: The class `HuggingFaceEmbeddings` was deprecated in LangChain 0.2.2 and will be removed in 1.0. An updated version of the class exists in the langchain-huggingface package and should be used instead. To use it run `pip install -U langchain-huggingface` and import as `from langchain_huggingface import HuggingFaceEmbeddings`.\n",
      "  embedding_function = SentenceTransformerEmbeddings(model_name=\"all-MiniLM-L6-v2\")\n",
      "d:\\VS Code\\python\\GenAI-Cookbook\\venv\\Lib\\site-packages\\sentence_transformers\\cross_encoder\\CrossEncoder.py:11: TqdmWarning: IProgress not found. Please update jupyter and ipywidgets. See https://ipywidgets.readthedocs.io/en/stable/user_install.html\n",
      "  from tqdm.autonotebook import tqdm, trange\n",
      "d:\\VS Code\\python\\GenAI-Cookbook\\venv\\Lib\\site-packages\\transformers\\tokenization_utils_base.py:1601: FutureWarning: `clean_up_tokenization_spaces` was not set. It will be set to `True` by default. This behavior will be depracted in transformers v4.45, and will be then set to `False` by default. For more details check this issue: https://github.com/huggingface/transformers/issues/31884\n",
      "  warnings.warn(\n"
     ]
    }
   ],
   "source": [
    "from langchain_community.embeddings.sentence_transformer import (\n",
    "    SentenceTransformerEmbeddings,\n",
    ")\n",
    "\n",
    "# use the open-source embedding function to convert text to embeddings, can choose another function as per leaderboard - https://huggingface.co/spaces/mteb/leaderboard\n",
    "embedding_function = SentenceTransformerEmbeddings(model_name=\"all-MiniLM-L6-v2\")"
   ]
  },
  {
   "cell_type": "code",
   "execution_count": 8,
   "metadata": {},
   "outputs": [],
   "source": [
    "chunk_embeddings = embedding_function.embed_documents(chunk_texts) # gives list of embeddings(which are list of float numbers)"
   ]
  },
  {
   "cell_type": "code",
   "execution_count": 9,
   "metadata": {},
   "outputs": [
    {
     "data": {
      "text/plain": [
       "384"
      ]
     },
     "execution_count": 9,
     "metadata": {},
     "output_type": "execute_result"
    }
   ],
   "source": [
    "# print(chunk_embeddings[0])\n",
    "len(chunk_embeddings[0]) # linear vector of length 384 is generated as embedding for 0th chunk text"
   ]
  },
  {
   "cell_type": "markdown",
   "metadata": {},
   "source": [
    "### Embed user query"
   ]
  },
  {
   "cell_type": "code",
   "execution_count": 10,
   "metadata": {},
   "outputs": [],
   "source": [
    "query_embedding = embedding_function.embed_query(query)"
   ]
  },
  {
   "cell_type": "code",
   "execution_count": 11,
   "metadata": {},
   "outputs": [
    {
     "name": "stdout",
     "output_type": "stream",
     "text": [
      "Note: you may need to restart the kernel to use updated packages.\n"
     ]
    }
   ],
   "source": [
    "%pip install -q numpy"
   ]
  },
  {
   "cell_type": "code",
   "execution_count": 12,
   "metadata": {},
   "outputs": [],
   "source": [
    "import numpy as np\n",
    "\n",
    "query_embedding = np.array(query_embedding).reshape(1,-1) # for cosine similarity"
   ]
  },
  {
   "cell_type": "code",
   "execution_count": 13,
   "metadata": {},
   "outputs": [
    {
     "data": {
      "text/plain": [
       "(1, 384)"
      ]
     },
     "execution_count": 13,
     "metadata": {},
     "output_type": "execute_result"
    }
   ],
   "source": [
    "query_embedding.shape"
   ]
  },
  {
   "cell_type": "code",
   "execution_count": 14,
   "metadata": {},
   "outputs": [],
   "source": [
    "chunk_embeddings = [np.array(ce).reshape(1,-1) for ce in chunk_embeddings] # reshape for cosine similarity"
   ]
  },
  {
   "cell_type": "markdown",
   "metadata": {},
   "source": [
    "#### Create cosine similarity and give top 10 similar vectors"
   ]
  },
  {
   "cell_type": "code",
   "execution_count": 15,
   "metadata": {},
   "outputs": [
    {
     "data": {
      "text/plain": [
       "array([[0.21760679]])"
      ]
     },
     "execution_count": 15,
     "metadata": {},
     "output_type": "execute_result"
    }
   ],
   "source": [
    "from sklearn.metrics.pairwise import cosine_similarity\n",
    "\n",
    "cosine_similarity(query_embedding, chunk_embeddings[0])"
   ]
  },
  {
   "cell_type": "markdown",
   "metadata": {},
   "source": [
    "The above is similarity score in range [0,1] for query and chunk embedding based off cosine similarity"
   ]
  },
  {
   "cell_type": "markdown",
   "metadata": {},
   "source": [
    "#### Doing cosine similarity for all chunks"
   ]
  },
  {
   "cell_type": "code",
   "execution_count": 16,
   "metadata": {},
   "outputs": [],
   "source": [
    "similarities = [cosine_similarity(query_embedding, ce) for ce in chunk_embeddings]"
   ]
  },
  {
   "cell_type": "code",
   "execution_count": 17,
   "metadata": {},
   "outputs": [
    {
     "data": {
      "text/plain": [
       "array([[0.21760679]])"
      ]
     },
     "execution_count": 17,
     "metadata": {},
     "output_type": "execute_result"
    }
   ],
   "source": [
    "similarities[1]"
   ]
  },
  {
   "cell_type": "code",
   "execution_count": 18,
   "metadata": {},
   "outputs": [
    {
     "data": {
      "text/plain": [
       "0.2176067916557493"
      ]
     },
     "execution_count": 18,
     "metadata": {},
     "output_type": "execute_result"
    }
   ],
   "source": [
    "similarities[1][0][0]"
   ]
  },
  {
   "cell_type": "code",
   "execution_count": 19,
   "metadata": {},
   "outputs": [
    {
     "data": {
      "text/plain": [
       "(1, 1)"
      ]
     },
     "execution_count": 19,
     "metadata": {},
     "output_type": "execute_result"
    }
   ],
   "source": [
    "similarities[1].shape"
   ]
  },
  {
   "cell_type": "markdown",
   "metadata": {},
   "source": [
    "### Sort based off similarities"
   ]
  },
  {
   "cell_type": "code",
   "execution_count": 20,
   "metadata": {},
   "outputs": [],
   "source": [
    "chunk_score_list = [(chunk_texts[i], similarities[i][0][0]) for i in range(len(similarities))]"
   ]
  },
  {
   "cell_type": "code",
   "execution_count": 21,
   "metadata": {},
   "outputs": [
    {
     "data": {
      "text/plain": [
       "[('World \\nHealth \\nStatistics \\n2022\\nMonitoring  \\nhealth for the  \\nSDG s\\nSustainable Development Goals',\n",
       "  0.2176067916557493),\n",
       " ('World \\nHealth \\nStatistics \\n2022\\nMonitoring  \\nhealth for the  \\nSDG s\\nSustainable Development Goals',\n",
       "  0.2176067916557493),\n",
       " ('World health statistics 2022: monitoring health for the SDGs, sustainable development goals\\nISBN 978-92-4-005114-0 (electronic version)\\nISBN 978-92-4-005115-7 (print version)\\n© World Health Organization 2022',\n",
       "  0.23928306724151702)]"
      ]
     },
     "execution_count": 21,
     "metadata": {},
     "output_type": "execute_result"
    }
   ],
   "source": [
    "chunk_score_list[:3]"
   ]
  },
  {
   "cell_type": "code",
   "execution_count": 22,
   "metadata": {},
   "outputs": [],
   "source": [
    "sorted_chunk_score_list = sorted(chunk_score_list, key=lambda x: x[1], reverse=True) # sort based on similarity(2nd ele of tuple) in descending order"
   ]
  },
  {
   "cell_type": "markdown",
   "metadata": {},
   "source": [
    "#### Getting the top 10 most similar chunks"
   ]
  },
  {
   "cell_type": "code",
   "execution_count": 23,
   "metadata": {},
   "outputs": [
    {
     "data": {
      "text/plain": [
       "[('true impact of the COVID-19 pandemic. Iraq and Tunisia also reported \\non monthly total deaths and were able to determine excess deaths \\nin 2020 in comparison to 2019. \\nSeven countries in the Eastern Mediterranean Region have reported',\n",
       "  0.6641347167072867),\n",
       " ('15. Roberton T, Carter ED, Chou VB, Stegmuller AR, Jackson BD, Tam Y, et al. Early estimates of the indirect effects of the COVID-19',\n",
       "  0.6533679664352592),\n",
       " ('• Progression and impact of the COVID-19 pandemic  ..................................................................................................................... 1',\n",
       "  0.6422023115978144),\n",
       " ('Progression \\nand impact of \\nthe COVID-19 \\npandemic01',\n",
       "  0.6185028984897357),\n",
       " ('Classification of Diseases (10th revision) was key to enable countries \\nto identify the impact of COVID-19 to cause deaths within their top \\n10 leading causes of death. Mortality data for Lebanon, Oman, Qatar,',\n",
       "  0.6157655627126775),\n",
       " ('and middle-income countries and compared them with a \\nno-COVID-19 scenario. The pandemic scenarios were: a rapid \\nrecovery in 2021 (“optimistic”); a scenario with a second',\n",
       "  0.6051212821058087),\n",
       " ('36. The impact of COVID-19 on health and care workers: a closer look at deaths. Geneva: World Health Organization; 2021( https:/ /apps.\\nwho.int/iris/handle/10665/345300 , accessed 5 May 2022).',\n",
       "  0.5924630896129958),\n",
       " ('eng.pdf?sequence=1&isAllowed=y , accessed 4 May 2022).\\n4. Osendarp S, Akuoku J, Black R, Headey D, Ruel M, Scott N, et al. The COVID-19 crisis will exacerbate maternal and child',\n",
       "  0.5888074011436205),\n",
       " ('may be higher than currently reported (see below) (8).\\nFig. 1.3.  Cumulative reported COVID-19 deaths, (a) by WHO region and (b) by World Bank income groups, as of 20 April 2022\\nIndia\\nAfrica\\nEuropeAmericas\\nSouth-East AsiaEastern Mediterranean',\n",
       "  0.5849406242588515),\n",
       " ('19. Global excess death associated with COVID-19, January 2020 – December 2021. Geneva: World Health Organization ( https:/ /',\n",
       "  0.5774613632265256)]"
      ]
     },
     "execution_count": 23,
     "metadata": {},
     "output_type": "execute_result"
    }
   ],
   "source": [
    "sorted_chunk_score_list[:10]"
   ]
  },
  {
   "cell_type": "markdown",
   "metadata": {},
   "source": [
    "#### Getting last 10 least similar chunks"
   ]
  },
  {
   "cell_type": "code",
   "execution_count": 24,
   "metadata": {},
   "outputs": [
    {
     "data": {
      "text/plain": [
       "[('against NTDsj \\nData typeComparable estimates Comparable estimatesComparable \\nestimatesPrimary dataComparable \\nestimatesComparable \\nestimatesComparable \\nestimatesComparable \\nestimatesComparable \\nestimatesComparable \\nestimatesPrimary data',\n",
       "  -0.06006841779414178),\n",
       " ('against NTDsj \\nData typeComparable estimates Comparable estimatesComparable \\nestimatesPrimary dataComparable \\nestimatesComparable \\nestimatesComparable \\nestimatesComparable \\nestimatesComparable \\nestimatesComparable \\nestimatesPrimary data',\n",
       "  -0.06006841779414178),\n",
       " ('against NTDsj \\nData typeComparable estimates Comparable estimatesComparable \\nestimatesPrimary dataComparable \\nestimatesComparable \\nestimatesComparable \\nestimatesComparable \\nestimatesComparable \\nestimatesComparable \\nestimatesPrimary data',\n",
       "  -0.06006841779414178),\n",
       " ('against NTDsj \\nData typeComparable estimates Comparable estimatesComparable \\nestimatesPrimary dataComparable \\nestimatesComparable \\nestimatesComparable \\nestimatesComparable \\nestimatesComparable \\nestimatesComparable \\nestimatesPrimary data',\n",
       "  -0.06006841779414178),\n",
       " ('against NTDsj \\nData typeComparable estimates Comparable estimatesComparable \\nestimatesPrimary dataComparable \\nestimatesComparable \\nestimatesComparable \\nestimatesComparable \\nestimatesComparable \\nestimatesComparable \\nestimatesPrimary data',\n",
       "  -0.06006841779414178),\n",
       " ('or recommended by WHO in preference to others of a similar nature that are not mentioned. Errors and \\nomissions excepted, the names of proprietary products are distinguished by initial capital letters.',\n",
       "  -0.0818026838664241),\n",
       " ('third-party-owned component in the work rests solely with the user.\\nGeneral disclaimers.  The designations employed and the presentation of the material in this publication do not',\n",
       "  -0.08587501525754608),\n",
       " ('requests for commercial use and queries on rights and licensing, see https:/ /www.who.int/copyright. \\nThird-party materials.  If you wish to reuse material from this work that is attributed to a third party, such as',\n",
       "  -0.09934718066236249),\n",
       " ('suggestion that WHO endorses any specific organization, products or services. The use of the WHO logo is \\nnot permitted. If you adapt the work, then you must license your work under the same or equivalent Creative',\n",
       "  -0.10333010245695476),\n",
       " ('Under the terms of this licence, you may copy, redistribute and adapt the work for non-commercial purposes, \\nprovided the work is appropriately cited, as indicated below. In any use of this work, there should be no',\n",
       "  -0.11809664523777069)]"
      ]
     },
     "execution_count": 24,
     "metadata": {},
     "output_type": "execute_result"
    }
   ],
   "source": [
    "sorted_chunk_score_list[-10:]"
   ]
  },
  {
   "cell_type": "markdown",
   "metadata": {},
   "source": [
    "Cosine similarity gives in range [-1,1] where 1 means same and -1 means vector is opposite\n",
    "\n",
    "By this way, you can find most similar texts and do RAG on it as in similarity_score_rag.ipynb"
   ]
  }
 ],
 "metadata": {
  "kernelspec": {
   "display_name": "venv",
   "language": "python",
   "name": "python3"
  },
  "language_info": {
   "codemirror_mode": {
    "name": "ipython",
    "version": 3
   },
   "file_extension": ".py",
   "mimetype": "text/x-python",
   "name": "python",
   "nbconvert_exporter": "python",
   "pygments_lexer": "ipython3",
   "version": "3.12.5"
  }
 },
 "nbformat": 4,
 "nbformat_minor": 2
}
