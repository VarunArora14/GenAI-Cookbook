{
 "cells": [
  {
   "cell_type": "markdown",
   "metadata": {},
   "source": [
    "### Llamaindex \n",
    "\n",
    "It is a framework for building LLM applications. Langchain's main focus in to create complex chains using various components and create complex multi-step applications, while llamaindex is designed to manage and index large, unstructured data collections (like documents) to make them accessible and useful to LLMs.\n",
    "\n",
    "It focuses on building retrieval-based systems by indexing data and enabling efficient querying over large document sets.\n",
    "\n",
    "Llamaindex is an excellent choice for building RAG applications where the LLM queries indexed documents, and relevant context is retrieved and passed to the model."
   ]
  },
  {
   "cell_type": "code",
   "execution_count": 33,
   "metadata": {},
   "outputs": [
    {
     "name": "stdout",
     "output_type": "stream",
     "text": [
      "Note: you may need to restart the kernel to use updated packages.\n"
     ]
    }
   ],
   "source": [
    "%pip install -q llama-index faiss-cpu llama-index-embeddings-huggingface llama-parse llama-index-vector-stores-faiss"
   ]
  },
  {
   "cell_type": "code",
   "execution_count": null,
   "metadata": {},
   "outputs": [],
   "source": []
  },
  {
   "cell_type": "code",
   "execution_count": 3,
   "metadata": {},
   "outputs": [],
   "source": [
    "import os\n",
    "\n",
    "import os\n",
    "from dotenv import load_dotenv\n",
    "\n",
    "load_dotenv()\n",
    "\n",
    "hugging_face_api_key = os.environ[\"HUGGINGFACEHUB_API_TOKEN\"]"
   ]
  },
  {
   "cell_type": "code",
   "execution_count": 4,
   "metadata": {},
   "outputs": [
    {
     "name": "stderr",
     "output_type": "stream",
     "text": [
      "d:\\VS Code\\python\\GenAI-Cookbook\\venv\\Lib\\site-packages\\tqdm\\auto.py:21: TqdmWarning: IProgress not found. Please update jupyter and ipywidgets. See https://ipywidgets.readthedocs.io/en/stable/user_install.html\n",
      "  from .autonotebook import tqdm as notebook_tqdm\n"
     ]
    }
   ],
   "source": [
    "from llama_index.embeddings.huggingface import HuggingFaceEmbedding\n",
    "\n",
    "\n",
    "embed_model = HuggingFaceEmbedding(model_name=\"BAAI/bge-small-en-v1.5\")"
   ]
  },
  {
   "cell_type": "code",
   "execution_count": 5,
   "metadata": {},
   "outputs": [],
   "source": [
    "embeddings = embed_model.get_text_embedding(\"Hello World!\")"
   ]
  },
  {
   "cell_type": "markdown",
   "metadata": {},
   "source": [
    "#### creates embedding of dimension size 384"
   ]
  },
  {
   "cell_type": "code",
   "execution_count": 7,
   "metadata": {},
   "outputs": [
    {
     "data": {
      "text/plain": [
       "384"
      ]
     },
     "execution_count": 7,
     "metadata": {},
     "output_type": "execute_result"
    }
   ],
   "source": [
    "len(embeddings) "
   ]
  },
  {
   "cell_type": "markdown",
   "metadata": {},
   "source": [
    "#### Read Documents"
   ]
  },
  {
   "cell_type": "code",
   "execution_count": 35,
   "metadata": {},
   "outputs": [],
   "source": [
    "from llama_index.core import SimpleDirectoryReader, VectorStoreIndex\n",
    "\n",
    "path = \"../data/\"\n",
    "\n",
    "pdf_parser = SimpleDirectoryReader(input_dir=path, required_exts=['.pdf'])\n",
    "documents = pdf_parser.load_data()"
   ]
  },
  {
   "cell_type": "code",
   "execution_count": 36,
   "metadata": {},
   "outputs": [
    {
     "data": {
      "text/plain": [
       "Document(id_='7c58139f-4432-40d2-92e1-bca110b85940', embedding=None, metadata={'page_label': 'I', 'file_name': 'who_stats_2022.pdf', 'file_path': 'd:\\\\VS Code\\\\python\\\\GenAI-Cookbook\\\\RAG_techniques\\\\..\\\\data\\\\who_stats_2022.pdf', 'file_type': 'application/pdf', 'file_size': 7925105, 'creation_date': '2024-09-08', 'last_modified_date': '2024-09-08'}, excluded_embed_metadata_keys=['file_name', 'file_type', 'file_size', 'creation_date', 'last_modified_date', 'last_accessed_date'], excluded_llm_metadata_keys=['file_name', 'file_type', 'file_size', 'creation_date', 'last_modified_date', 'last_accessed_date'], relationships={}, text='World \\nHealth \\nStatistics \\n2022\\nMonitoring  \\nhealth for the  \\nSDG s\\nSustainable Development Goals', mimetype='text/plain', start_char_idx=None, end_char_idx=None, text_template='{metadata_str}\\n\\n{content}', metadata_template='{key}: {value}', metadata_seperator='\\n')"
      ]
     },
     "execution_count": 36,
     "metadata": {},
     "output_type": "execute_result"
    }
   ],
   "source": [
    "documents[0]"
   ]
  },
  {
   "cell_type": "code",
   "execution_count": 37,
   "metadata": {},
   "outputs": [
    {
     "data": {
      "text/plain": [
       "{'id_': '7c58139f-4432-40d2-92e1-bca110b85940',\n",
       " 'embedding': None,\n",
       " 'metadata': {'page_label': 'I',\n",
       "  'file_name': 'who_stats_2022.pdf',\n",
       "  'file_path': 'd:\\\\VS Code\\\\python\\\\GenAI-Cookbook\\\\RAG_techniques\\\\..\\\\data\\\\who_stats_2022.pdf',\n",
       "  'file_type': 'application/pdf',\n",
       "  'file_size': 7925105,\n",
       "  'creation_date': '2024-09-08',\n",
       "  'last_modified_date': '2024-09-08'},\n",
       " 'excluded_embed_metadata_keys': ['file_name',\n",
       "  'file_type',\n",
       "  'file_size',\n",
       "  'creation_date',\n",
       "  'last_modified_date',\n",
       "  'last_accessed_date'],\n",
       " 'excluded_llm_metadata_keys': ['file_name',\n",
       "  'file_type',\n",
       "  'file_size',\n",
       "  'creation_date',\n",
       "  'last_modified_date',\n",
       "  'last_accessed_date'],\n",
       " 'relationships': {},\n",
       " 'text': 'World \\nHealth \\nStatistics \\n2022\\nMonitoring  \\nhealth for the  \\nSDG s\\nSustainable Development Goals',\n",
       " 'mimetype': 'text/plain',\n",
       " 'start_char_idx': None,\n",
       " 'end_char_idx': None,\n",
       " 'text_template': '{metadata_str}\\n\\n{content}',\n",
       " 'metadata_template': '{key}: {value}',\n",
       " 'metadata_seperator': '\\n'}"
      ]
     },
     "execution_count": 37,
     "metadata": {},
     "output_type": "execute_result"
    }
   ],
   "source": [
    "vars(documents[0])"
   ]
  },
  {
   "cell_type": "code",
   "execution_count": 13,
   "metadata": {},
   "outputs": [
    {
     "data": {
      "text/plain": [
       "131"
      ]
     },
     "execution_count": 13,
     "metadata": {},
     "output_type": "execute_result"
    }
   ],
   "source": [
    "len(documents)"
   ]
  },
  {
   "cell_type": "code",
   "execution_count": 15,
   "metadata": {},
   "outputs": [
    {
     "data": {
      "text/plain": [
       "6373"
      ]
     },
     "execution_count": 15,
     "metadata": {},
     "output_type": "execute_result"
    }
   ],
   "source": [
    "len(documents[100].text)"
   ]
  },
  {
   "cell_type": "code",
   "execution_count": 55,
   "metadata": {},
   "outputs": [
    {
     "name": "stdout",
     "output_type": "stream",
     "text": [
      "stores_text=False is_embedding_query=True\n"
     ]
    }
   ],
   "source": [
    "from llama_index.vector_stores.faiss import FaissVectorStore\n",
    "from llama_index.core import VectorStoreIndex, StorageContext\n",
    "import faiss\n",
    "\n",
    "# create FAISS index with proper dimensions\n",
    "faiss_index = faiss.IndexFlatL2(384) # pass the embed dimension\n",
    "vector_store = FaissVectorStore(faiss_index=faiss_index)\n",
    "print(vector_store)\n",
    "storage_context = StorageContext.from_defaults(vector_store=vector_store) # context important as FAISS requires pkl file"
   ]
  },
  {
   "cell_type": "code",
   "execution_count": null,
   "metadata": {},
   "outputs": [],
   "source": [
    "index = VectorStoreIndex.from_documents(documents=documents, embed_model=embed_model, show_progress=True)"
   ]
  },
  {
   "cell_type": "markdown",
   "metadata": {},
   "source": [
    "### Retriever to get similar docs"
   ]
  },
  {
   "cell_type": "code",
   "execution_count": 116,
   "metadata": {},
   "outputs": [],
   "source": [
    "retriever = index.as_retriever(similarity_top_k=7)"
   ]
  },
  {
   "cell_type": "code",
   "execution_count": 57,
   "metadata": {},
   "outputs": [],
   "source": [
    "question = \"What was impact of covid-19 on middle eastern countries?\""
   ]
  },
  {
   "cell_type": "code",
   "execution_count": 58,
   "metadata": {},
   "outputs": [],
   "source": [
    "contexts = retriever.retrieve(question)"
   ]
  },
  {
   "cell_type": "code",
   "execution_count": 59,
   "metadata": {},
   "outputs": [
    {
     "data": {
      "text/plain": [
       "[NodeWithScore(node=TextNode(id_='35ae21be-25bc-4471-b170-6f31070ac537', embedding=None, metadata={'page_label': '77', 'file_name': 'who_stats_2022.pdf', 'file_path': 'd:\\\\VS Code\\\\python\\\\GenAI-Cookbook\\\\RAG_techniques\\\\..\\\\data\\\\who_stats_2022.pdf', 'file_type': 'application/pdf', 'file_size': 7925105, 'creation_date': '2024-09-08', 'last_modified_date': '2024-09-08'}, excluded_embed_metadata_keys=['file_name', 'file_type', 'file_size', 'creation_date', 'last_modified_date', 'last_accessed_date'], excluded_llm_metadata_keys=['file_name', 'file_type', 'file_size', 'creation_date', 'last_modified_date', 'last_accessed_date'], relationships={<NodeRelationship.SOURCE: '1'>: RelatedNodeInfo(node_id='eb94dc14-4746-48ab-9233-abd89dd9f97e', node_type=<ObjectType.DOCUMENT: '4'>, metadata={'page_label': '77', 'file_name': 'who_stats_2022.pdf', 'file_path': 'd:\\\\VS Code\\\\python\\\\GenAI-Cookbook\\\\RAG_techniques\\\\..\\\\data\\\\who_stats_2022.pdf', 'file_type': 'application/pdf', 'file_size': 7925105, 'creation_date': '2024-09-08', 'last_modified_date': '2024-09-08'}, hash='c60cdc54ceb667887f0999eed3ffdd1cf1f3967bc7ab28f72a15d2a49dbc7a6d')}, text='82•European Region\\nDisruptions of essential health services\\n1  Responses were obtained from 23 of 53 WHO European Region Member States.COVID-19 has added pressure to all three pillars of UHC: access to health services, quality of care, and financial protection. In 2020, the results of the first WHO pulse survey revealed that over 40% of essential health services in the WHO European region had been at least partially disrupted (4), with the disruptions occurring across all aspects of health systems. Results from the second WHO pulse survey showed that substantial disruptions persisted in 2021, with around 29% of services at least partially disrupted in the first three months of 2021 (5).1 During the rest of 2021, the extent and magnitude of those disruptions decreased compared to 2020 (6). The main causes of the disruptions have also shifted. On the supply side, shortages of personal protective equipment seemed to become less of a challenge, while the cancellation of elective care and shortages of staff and inpatient beds continued to be problems. On the demand side, the effects of the disruptions were aggravated by people’s reluctance to seek health care. This was attributed partly to governments’ appeals to the public to avoid using health facilities unless absolutely necessary, people’s assumptions that care would not be available, and their concerns about possibly acquiring or transmitting coronavirus infection at health facilities. Travel restrictions and financial barriers contributed to the decline in the use of health care services. Existing inequalities have also shaped the extent to which people have been affected by health service disruptions during COVID-19. Older people, those living in deprived areas, people with disabilities or with chronic conditions, and minority populations (such as refugees and migrants and lesbian, gay, bisexual, transgender/transsexual, intersex and queer/questioning communities) have experienced poorer access to health care compared to the rest of the population.\\nDuring the pandemic, countries in the WHO European Region have purposefully sought to adapt health insurance coverage policies to minimize financial barriers blocking access to COVID-19 treatment. Several Member States have exempted COVID19-related services from co-payments and a few have extended these exemptions to other health services, such as teleconsultations. In addition, some Member States have extended their health insurance coverage policies to irregular migrants and other people who are usually excluded from coverage. At the same time, the pandemic may have increased unmet health care needs and worsened financial hardship in several ways. For instance, the disruption of health services may have led to increased out-of-pocket health spending among people seeking quicker access to treatment and care. The economic shock of the pandemic has also reduced household incomes, especially for poorer households. Those economic shocks are also reducing government revenue, while increasing the need for publicly financed health care (10).\\nFallout from the COVID-19 pandemic has substantially hampered supply and demand for essential health services. The disruptions have aggravated existing inequalities in vulnerable and minority groups’ access to health services. While several countries in the WHO European Region acted rapidly to reduce financial barriers to COVID-19 treatment, the increasing demand for quicker access to care may have led to increased out-of-pocket payments for health and thus may have aggravated financial hardship.', mimetype='text/plain', start_char_idx=0, end_char_idx=3589, text_template='{metadata_str}\\n\\n{content}', metadata_template='{key}: {value}', metadata_seperator='\\n'), score=0.7730778862568785),\n",
       " NodeWithScore(node=TextNode(id_='93c2b390-c459-408c-b765-abd6ed6df413', embedding=None, metadata={'page_label': '79', 'file_name': 'who_stats_2022.pdf', 'file_path': 'd:\\\\VS Code\\\\python\\\\GenAI-Cookbook\\\\RAG_techniques\\\\..\\\\data\\\\who_stats_2022.pdf', 'file_type': 'application/pdf', 'file_size': 7925105, 'creation_date': '2024-09-08', 'last_modified_date': '2024-09-08'}, excluded_embed_metadata_keys=['file_name', 'file_type', 'file_size', 'creation_date', 'last_modified_date', 'last_accessed_date'], excluded_llm_metadata_keys=['file_name', 'file_type', 'file_size', 'creation_date', 'last_modified_date', 'last_accessed_date'], relationships={<NodeRelationship.SOURCE: '1'>: RelatedNodeInfo(node_id='f1f34deb-d5da-4803-a961-4d36e0437938', node_type=<ObjectType.DOCUMENT: '4'>, metadata={'page_label': '79', 'file_name': 'who_stats_2022.pdf', 'file_path': 'd:\\\\VS Code\\\\python\\\\GenAI-Cookbook\\\\RAG_techniques\\\\..\\\\data\\\\who_stats_2022.pdf', 'file_type': 'application/pdf', 'file_size': 7925105, 'creation_date': '2024-09-08', 'last_modified_date': '2024-09-08'}, hash='f277e72e187097044d2cc7c56492f2773962dc1054de0fe6121c72ef98137c0c'), <NodeRelationship.NEXT: '3'>: RelatedNodeInfo(node_id='9f72d8b8-8177-4d3b-80a4-3f35fbe0e521', node_type=<ObjectType.TEXT: '1'>, metadata={}, hash='87380de582f6d2c7ddbe01c6dcb478736f1b0651c56ced4023d42764bb8456e0')}, text='84•South-East Asia Region\\nData-informed decision-making is vital for pandemic control and essential health services\\nAs the COVID-19 pandemic took hold in 2020, it was quickly apparent that essential services for sexual, reproductive, maternal, newborn, child and adolescent health were being disrupted in the WHO South-\\nEast Asia Region.\\nSeveral mapping exercises were conducted to study the extent of disruption and modelling exercises were performed to assess the likely effects. Modelling was done in collaboration with UNICEF’s Regional Office and the SickKids’ Center for Global Child Health in Bangladesh, India, Nepal and Sri Lanka, while studies on the impact on sexual, reproductive, maternal, newborn, child and adolescent health services were carried out through national institutions. These exercises provided some information for decision-making early in the pandemic, but it also became clear that regular monitoring information was needed to respond effectively and to maintain essential health services (11). In five countries (Bangladesh, India, Myanmar, Nepal and Timor-Leste), a two-phased, country-focused mitigation project was initiated jointly by WHO Headquarters and the Regional Office. The aim was to support country efforts to prevent additional increases in malnutrition, mental and physical ill health, and mortality among pregnant women, mothers, children, adolescents and older people by maintaining service delivery at levels as close as possible to those prior to the pandemic. The main data sources for the project were routine sexual, reproductive, maternal, newborn, child and adolescent health management information, and maternal death surveillance and response surveillance data. Based on the global list of indicators for monitoring the effects of COVID-19 on essential health services (12), the WHO Regional Office, in consultation with the mitigation project countries, selected 34 indicators for monitoring the delivery of sexual, reproductive, maternal, newborn, child and adolescent health services using data from health management information systems which countries customized and adapted. The most commonly reported indicators included facility births, antenatal care provision, DPT3 vaccine, consultations for acute respiratory infections and diarrhoea in children, caesarean sections and contraception distribution. The least-reported indicators were related to newborn health (postnatal care and early initiation of breastfeeding), child malnutrition, post-abortion complications, and adolescent sexual and reproductive health. Data were used for policy dialogues and to select mitigation options. Figs. A1.5-7 illustrate how routine health management information can help in analysing and prioritizing actions for overcoming disruptions in health services. The figures show the declining use of services during lockdown periods and gradual improvement due to several mitigation strategies employed by countries to maintain essential services. These responses included tele-counselling, the use of community-based health care workers and continued publicity about the safety of attending health facilities. The use of routine, timely, high-quality and reliable health management information data must be further developed and improved. For example, common issues encountered during the five-country project included a lack of subnational data for vulnerable populations, a lack of private sector reporting, and incomplete data sharing. Countries need to focus more on improving the quality and completeness of health management indicator data as part of their regular monitoring and use of data for decision-making. Continuous monitoring and appropriate actions are needed to track and assess progress towards achieving the SDGs, including during crises.\\nFig. A1.5.  Number of women who received injectables in Bangladesh and percentage change, 2019–2020\\n-3.18 -1.77-7.85\\n-32,98-25.43-11.5-19.03 -15.24-7.19-12.98 -10.57 -7.36\\n-100-80-60-40-20020406080100\\n0200 000400 000600 000800 0001 000 0001 200 000\\nJan Feb Mar Apr May Jun Jul Aug Sep Oct Nov DecNumber of women (percentage)\\n2019 2020 % Change\\nSource:  Analysis from the Management Information System of the Directorate General of Family Planning, Bangladesh, 2019–2020.\\nFig. A1.6.', mimetype='text/plain', start_char_idx=0, end_char_idx=4288, text_template='{metadata_str}\\n\\n{content}', metadata_template='{key}: {value}', metadata_seperator='\\n'), score=0.7543605650470909),\n",
       " NodeWithScore(node=TextNode(id_='dfb3e866-6531-4ff1-874f-abc493250f69', embedding=None, metadata={'page_label': 'viii', 'file_name': 'who_stats_2022.pdf', 'file_path': 'd:\\\\VS Code\\\\python\\\\GenAI-Cookbook\\\\RAG_techniques\\\\..\\\\data\\\\who_stats_2022.pdf', 'file_type': 'application/pdf', 'file_size': 7925105, 'creation_date': '2024-09-08', 'last_modified_date': '2024-09-08'}, excluded_embed_metadata_keys=['file_name', 'file_type', 'file_size', 'creation_date', 'last_modified_date', 'last_accessed_date'], excluded_llm_metadata_keys=['file_name', 'file_type', 'file_size', 'creation_date', 'last_modified_date', 'last_accessed_date'], relationships={<NodeRelationship.SOURCE: '1'>: RelatedNodeInfo(node_id='aacb3b38-2a35-4437-8159-f76d8b5098fb', node_type=<ObjectType.DOCUMENT: '4'>, metadata={'page_label': 'viii', 'file_name': 'who_stats_2022.pdf', 'file_path': 'd:\\\\VS Code\\\\python\\\\GenAI-Cookbook\\\\RAG_techniques\\\\..\\\\data\\\\who_stats_2022.pdf', 'file_type': 'application/pdf', 'file_size': 7925105, 'creation_date': '2024-09-08', 'last_modified_date': '2024-09-08'}, hash='8a31c31079a6865b942ad849d7671ddec88b7ea5171c667fe491ba8da13d7975'), <NodeRelationship.PREVIOUS: '2'>: RelatedNodeInfo(node_id='d14f8ece-c790-4b00-ba22-52e058d14c4c', node_type=<ObjectType.TEXT: '1'>, metadata={'page_label': 'viii', 'file_name': 'who_stats_2022.pdf', 'file_path': 'd:\\\\VS Code\\\\python\\\\GenAI-Cookbook\\\\RAG_techniques\\\\..\\\\data\\\\who_stats_2022.pdf', 'file_type': 'application/pdf', 'file_size': 7925105, 'creation_date': '2024-09-08', 'last_modified_date': '2024-09-08'}, hash='0374776ab01dbd063d769e7867eccda698a2782b4fdb9fe96041419c587c4504')}, text='People in low- and middle-income countries are most exposed to outdoor air pollution at levels exceeding WHO air quality limits. Violence against women continued to be prevalent. Globally, about one in four (26%) women aged 15 years and older had been subjected to physical and/or sexual violence by an intimate male partner at least once in their lifetime. The COVID-19 pandemic is likely to have caused a major setback in efforts to reduce violence against women, with initial data indicating increases in intimate partner violence.\\nA more complete picture of the impact of the COVID-19 pandemic on the prevalence of these various risks awaits the collection and analysis of additional data. However, the sustained disruption of many of the relevant services point to potentially dramatic negative consequences in at least some respects. In addition, a strong body of evidence indicates that some NCD risk factors increase individuals’ risk of severe outcomes due to COVID-19. The latest global monitoring reports on universal health coverage (UHC) and financial protection in health, published by WHO and the World Bank, identified mixed trends prior to the COVID-19 pandemic. Service coverage improved steadily from an index of 45 in 2000 to 67 in 2019, while the proportion of the population', mimetype='text/plain', start_char_idx=3795, end_char_idx=5091, text_template='{metadata_str}\\n\\n{content}', metadata_template='{key}: {value}', metadata_seperator='\\n'), score=0.745796009940715),\n",
       " NodeWithScore(node=TextNode(id_='f9017618-8884-46f4-a201-8b7b4b343364', embedding=None, metadata={'page_label': '2', 'file_name': 'who_stats_2022.pdf', 'file_path': 'd:\\\\VS Code\\\\python\\\\GenAI-Cookbook\\\\RAG_techniques\\\\..\\\\data\\\\who_stats_2022.pdf', 'file_type': 'application/pdf', 'file_size': 7925105, 'creation_date': '2024-09-08', 'last_modified_date': '2024-09-08'}, excluded_embed_metadata_keys=['file_name', 'file_type', 'file_size', 'creation_date', 'last_modified_date', 'last_accessed_date'], excluded_llm_metadata_keys=['file_name', 'file_type', 'file_size', 'creation_date', 'last_modified_date', 'last_accessed_date'], relationships={<NodeRelationship.SOURCE: '1'>: RelatedNodeInfo(node_id='dff801b1-a6cf-4db2-854e-0623cf45a2a8', node_type=<ObjectType.DOCUMENT: '4'>, metadata={'page_label': '2', 'file_name': 'who_stats_2022.pdf', 'file_path': 'd:\\\\VS Code\\\\python\\\\GenAI-Cookbook\\\\RAG_techniques\\\\..\\\\data\\\\who_stats_2022.pdf', 'file_type': 'application/pdf', 'file_size': 7925105, 'creation_date': '2024-09-08', 'last_modified_date': '2024-09-08'}, hash='d9d2c74a82e1fcd18afe898c841edb048c595bedbff6e4ec5a4faed7149fda2b')}, text='2\\nWorld Health Statistics 2022  – Monitoring health for the SDGsMore than two years after WHO characterized COVID-19 as a public health emergency of international concern on 11 March 2020, COVID-19 continues to be a global threat to health.\\nThe rapid development of COVID-19 vaccines had brought hopes that the pandemic’s death toll could be drastically contained and the pandemic itself could be halted. However, a combination of factors upended these hopes in 2021. Erratic and hesitant public health measures, deficient health system capacities, and a highly unequal access to COVID-19 vaccines saw new variants of severe acute respiratory syndrome coronavirus 2 (SARS-CoV-2) gain ascendance and drive successive waves of infection in all regions.\\nCOVID-19 continues to claim large numbers of lives worldwide. In addition, the long-term impact of infection on people’s health is not yet fully understood. Preliminary indications are that significant proportions of people who acquire the infection experience a wide range of complications (some possibly chronic) for at least several weeks after the initial infection.\\nBoth study evidence and anecdotal reports indicate that survivors of SARS-CoV-2 infection may be subject to a multitude of long-lasting symptoms. Reports of the prevalence of ongoing symptoms vary (1-3). A recent systematic review reported a prevalence of persistent symptoms in patients after mild COVID-19 infection ranged from 10% to 35% (4). Cognitive impairment, various neuropsychiatric symptoms, fatigue, headaches and other complaints are among the conditions reported four or more weeks after the initial infection (5). A detailed understanding of these long-lasting symptoms has not yet been achieved. Compounding the impact on the health of individuals is the pandemic’s disruption of social life, economic activity and, in some cases, political stability (including anti-\\nmasking protests in some countries), as well as essential health services. Shortages of health care staff, diagnostics and medicines have been reported in numerous countries, while immunization services and the diagnosis and treatment of other health conditions have also been disrupted or delayed (6-7).', mimetype='text/plain', start_char_idx=0, end_char_idx=2210, text_template='{metadata_str}\\n\\n{content}', metadata_template='{key}: {value}', metadata_seperator='\\n'), score=0.7355448069548329),\n",
       " NodeWithScore(node=TextNode(id_='05f1f058-0967-4764-a07e-55297236d2f0', embedding=None, metadata={'page_label': '57', 'file_name': 'who_stats_2022.pdf', 'file_path': 'd:\\\\VS Code\\\\python\\\\GenAI-Cookbook\\\\RAG_techniques\\\\..\\\\data\\\\who_stats_2022.pdf', 'file_type': 'application/pdf', 'file_size': 7925105, 'creation_date': '2024-09-08', 'last_modified_date': '2024-09-08'}, excluded_embed_metadata_keys=['file_name', 'file_type', 'file_size', 'creation_date', 'last_modified_date', 'last_accessed_date'], excluded_llm_metadata_keys=['file_name', 'file_type', 'file_size', 'creation_date', 'last_modified_date', 'last_accessed_date'], relationships={<NodeRelationship.SOURCE: '1'>: RelatedNodeInfo(node_id='3e8d2ad8-0aef-4c0c-a6af-77633824c3a9', node_type=<ObjectType.DOCUMENT: '4'>, metadata={'page_label': '57', 'file_name': 'who_stats_2022.pdf', 'file_path': 'd:\\\\VS Code\\\\python\\\\GenAI-Cookbook\\\\RAG_techniques\\\\..\\\\data\\\\who_stats_2022.pdf', 'file_type': 'application/pdf', 'file_size': 7925105, 'creation_date': '2024-09-08', 'last_modified_date': '2024-09-08'}, hash='e6ec0ec0233d716af740b4b35bc9d1db72818268c8e60d04676d5dd1f1cc3e52')}, text='61Pathway to Universal Health Coverage\\n•The COVID-19 pandemic is likely to halt the progress made in service coverage over the last 20\\xa0years and exacerbate financial hardship by people paying out of pocket for health\\nThe 2021 global monitoring reports on UHC and financial protection in health published by WHO and the World Bank identified mixed pre-COVID-19 trends in SDG UHC indicators since 2000. Service coverage (SDG indicator 3.8.1) has improved slowly from a global average index of 45 in 2000 to 67 in 2019 (1). However, the proportion of the population with out-of-pocket health spending exceeding 10% of their household budget (SDG indicator 3.8.2) grew from 9.4% of the population in 2000 to 13.2% in 2017 (2). Fig. 4.1 depicts these trends for 2000–2017, the reference years for which regional values are available for both indicators. • Quadrant 1 shows the regions with relatively high levels of service coverage and relatively low proportions of people with large out-of-pocket expenditures on health. Only two WHO regions––Europe and the Americas––were in this quadrant. • Quadrant II includes regions with relatively high service coverage, but at a major cost to households (that is, with relatively high levels of catastrophic health spending). In 2017, the WHO Western Pacific Region was in this quadrant. It experienced rapid improvements in service coverage since 2000, but also recorded the fastest increases in catastrophic health spending. Lack of data currently prevents a detailed and comprehensive assessment of the impact of COVID-19 on the path to UHC. Nevertheless, the combined health and economic impact of COVID-19, such as disruptions in the delivery of essential health services (3-5), rising poverty and widening income inequality, point towards the strong likelihood of a significant worsening of financial protection globally. People are likely to face greater financial constraints to access care and financial hardship is likely to worsen further among those paying out-of-pocket for health, particularly in already disadvantaged populations (1, 2).\\n• South-East Asia was in quadrant III in 2017, meaning it experienced relatively low service coverage and relatively high rates of catastrophic health spending. • The African Region and the Eastern Mediterranean Region were in quadrant IV. Service coverage was relatively low and it increased in both these regions, although it was accompanied by increased catastrophic health spending in the Eastern Mediterranean Region. WHO, the World Bank Group and the Organization for Economic Co-operation and Development (OECD) are urging stronger progress in three priority areas to accelerate progress towards UHC: primary health care; sustainable financing; and strengthening of health system capacities (particularly the health workforce) (6).', mimetype='text/plain', start_char_idx=0, end_char_idx=2829, text_template='{metadata_str}\\n\\n{content}', metadata_template='{key}: {value}', metadata_seperator='\\n'), score=0.7341625846678379),\n",
       " NodeWithScore(node=TextNode(id_='59495e44-18ec-48da-b144-7ac266581ee5', embedding=None, metadata={'page_label': '75', 'file_name': 'who_stats_2022.pdf', 'file_path': 'd:\\\\VS Code\\\\python\\\\GenAI-Cookbook\\\\RAG_techniques\\\\..\\\\data\\\\who_stats_2022.pdf', 'file_type': 'application/pdf', 'file_size': 7925105, 'creation_date': '2024-09-08', 'last_modified_date': '2024-09-08'}, excluded_embed_metadata_keys=['file_name', 'file_type', 'file_size', 'creation_date', 'last_modified_date', 'last_accessed_date'], excluded_llm_metadata_keys=['file_name', 'file_type', 'file_size', 'creation_date', 'last_modified_date', 'last_accessed_date'], relationships={<NodeRelationship.SOURCE: '1'>: RelatedNodeInfo(node_id='06724c18-a5b4-4550-8ccb-059055fc8284', node_type=<ObjectType.DOCUMENT: '4'>, metadata={'page_label': '75', 'file_name': 'who_stats_2022.pdf', 'file_path': 'd:\\\\VS Code\\\\python\\\\GenAI-Cookbook\\\\RAG_techniques\\\\..\\\\data\\\\who_stats_2022.pdf', 'file_type': 'application/pdf', 'file_size': 7925105, 'creation_date': '2024-09-08', 'last_modified_date': '2024-09-08'}, hash='0ddede56cb1e73047419ca373b73016498565e2dfef6e5f2b275432558b3601e')}, text='80•Eastern Mediterranean Region Building capacity to calculate excess mortality during the COVID-19 pandemic\\nAll-cause mortality registration systems are important to determine the actual toll a pandemic such as COVID-19 is taking on individuals and communities. WHO has been working with countries of the Eastern Mediterranean Region since 2012 to improve their mortality registration systems. A total of 16 countries in the region currently report annual mortality data by cause of death to WHO. However, the COVID-19 pandemic has highlighted the urgent need for more frequent data to monitor sudden changes in mortality. To that end, WHO has strengthened country capacities to report weekly mortality data by all causes (natural and non-natural) and COVID-19 deaths on an online platform. Focal persons from information health units and mortality and cause-\\nof-death registration programmes were familiarized with the online platform through regular virtual meetings. Technical support to countries focused on the process of compiling, reviewing and validating total numbers of deaths and COVID-19 deaths in order to generate reliable data for calculating age- and sex-specific mortality indicators. The validation process was two-fold: continuous communication with death registration programme focal persons at national level, and regular WHO Regional Office feedback to maintain instant reporting of quality accepted and complete data. This approach made it possible to set weekly benchmarks and assess excess mortality in 2020 compared to previous years (8), with countries able to use the data for planning and decision-making.\\nSeveral meetings with mortality data focal points were held to introduce innovations related to the implementation of mortality surveillance systems and collection of data by age and sex. This led to the establishment of rapid mortality surveillance in Jordan and the Syrian Arab Republic. Capacity-building workshops were also organized to train country teams responsible for health information systems on the use of excess mortality calculator and interpretation of results (9). Countries with strong digital integrated health information platforms (for example, Oman) were able to develop weekly mortality curves by age and sex, as well as identify excess mortality in 2020. Lebanon also made significant improvements in its death registration system. Despite its limited infrastructure, Lebanon used available mortality data by all causes of death to validate COVID-19 deaths and assess the true impact of the COVID-19 pandemic. Iraq and Tunisia also reported on monthly total deaths and were able to determine excess deaths in 2020 in comparison to 2019. Seven countries in the Eastern Mediterranean Region have reported total deaths during the pandemic period, data that have contributed to estimations of COVID-19 excess mortality at the regional and global levels. Countries with a high coverage of death registration and efficient registration systems showed little difference between estimated and reported total deaths in 2020 (Fig. A1.4). Reporting on mortality data by causes of death using the standardized reporting of the International Classification of Diseases (10th revision) was key to enable countries to identify the impact of COVID-19 to cause deaths within their top 10 leading causes of death. Mortality data for Lebanon, Oman, Qatar, Tunisia and the United Arab Emirates were publicly available by causes of death, which was helpful for identifying the top 10 leading causes of death in 2020, including COVID-19 direct deaths, and for estimating excess deaths associated with COVID-19 mortality during that year.\\nFig. A1.4.  Reported crude deaths rates (per 100 000 population), adjusted for COVID-19 deaths, Eastern Mediterranean Region, 2019 and 2020\\n0 100 200 300 400 500 600 700\\n2020 2019United Arab EmiratesTunisia\\nSyria\\nSaudi Arabia\\nQatarOman\\nOccupied Palestinian territory\\nMoroccoLibya\\nLebanon\\nKuwaitJordanIraqIran, Islamic Republic ofEgypt\\nBahrain\\nSource:  WHO, 2022.', mimetype='text/plain', start_char_idx=0, end_char_idx=4037, text_template='{metadata_str}\\n\\n{content}', metadata_template='{key}: {value}', metadata_seperator='\\n'), score=0.7340825938761149),\n",
       " NodeWithScore(node=TextNode(id_='a38a789f-a8d4-4bd4-aa16-c082f91c96ab', embedding=None, metadata={'page_label': '69', 'file_name': 'who_stats_2022.pdf', 'file_path': 'd:\\\\VS Code\\\\python\\\\GenAI-Cookbook\\\\RAG_techniques\\\\..\\\\data\\\\who_stats_2022.pdf', 'file_type': 'application/pdf', 'file_size': 7925105, 'creation_date': '2024-09-08', 'last_modified_date': '2024-09-08'}, excluded_embed_metadata_keys=['file_name', 'file_type', 'file_size', 'creation_date', 'last_modified_date', 'last_accessed_date'], excluded_llm_metadata_keys=['file_name', 'file_type', 'file_size', 'creation_date', 'last_modified_date', 'last_accessed_date'], relationships={<NodeRelationship.SOURCE: '1'>: RelatedNodeInfo(node_id='b4a3a211-e7a9-4c4b-b60d-7d278fe55c26', node_type=<ObjectType.DOCUMENT: '4'>, metadata={'page_label': '69', 'file_name': 'who_stats_2022.pdf', 'file_path': 'd:\\\\VS Code\\\\python\\\\GenAI-Cookbook\\\\RAG_techniques\\\\..\\\\data\\\\who_stats_2022.pdf', 'file_type': 'application/pdf', 'file_size': 7925105, 'creation_date': '2024-09-08', 'last_modified_date': '2024-09-08'}, hash='9ce831460a261d1cc5ded19cd917904244c10606b29e0bf774461634f7e97c40'), <NodeRelationship.NEXT: '3'>: RelatedNodeInfo(node_id='c70fb2a7-9d68-411e-abbc-c393a064254a', node_type=<ObjectType.TEXT: '1'>, metadata={}, hash='de4445055157c5bb98e2078ab6157836d4ba6b8526ba8eed438e1ffa7ae64084')}, text='73Pathway to Universal Health Coverage\\n20.  The impact of COVID-19 on HIV, TB and Malaria Services and Systems for Health, Geneva: Global Fund to Fight AIDS, Tuberculosis and Malaria, 2021 (https:/ /www.theglobalfund.org/media/10776/covid-19_2020-disruption-impact_report_en.pdf, accessed on 12 May 2022).\\n21. Global tuberculosis report Geneva: World Health Organization; 2021 ( https:/ /www.who.int/publications/i/item/9789240037021 , accessed 5 May 2022).\\n22. Bertozzi-Villa A, Bever CA, Koenker H, Weiss DJ, Vargas-Ruiz C, Nandi AK, et al. Maps and metrics of insecticide-treated net access, use, and nets-per-capita in Africa from 2000-Nat Commun. 2021;12(1):\\n23. World malaria report Geneva: World Health Organization; 2021 ( https:/ /www.who.int/publications/i/item/9789240040496 , accessed 5 May 2022).\\n24. NCD Risk Factor Collaboration (NCD-RisC). Worldwide trends in hypertension prevalence and progress in treatment and control from 1990 to 2019: a pooled analysis of 1201 population-representative studies with 104 million participants., Lancet 2021;398(10304):957–980.\\n25. The impact of the COVID-19 pandemic on noncommunicable disease resources and services: results of a rapid assessment. Geneva: World Health Organization; 2020 ( https:/ /apps.who.int/iris/rest/bitstreams/1299882/retrieve , accessed 5 May 2022).\\n26. Assessing national capacity for the prevention and control of noncommunicable diseases: report of the 2021 global survey. Geneva: World Health Organization; [in press].\\n27. Global health estimates 2019: disease burden by cause, age, sex, by country and by region, 2000–Geneva: World Health Organization; 2020 ( https:/ /www.who.int/data/gho/data/themes/mortality-and-global-health-estimates/global-health-estimates-leading-causes-\\nof-dalys , accessed 11 May 2022).\\n28. Chisholm D, Docrat S, Abdulmalik J, et al. Mental health financing challenges, opportunities and strategies in low- and middle-income countries: findings from the Emerald project. BJPsych Open. 2019;5(5):e\\n29. Mental health atlas Geneva: World Health Organization; 2021 ( https:/ /apps.who.int/iris/rest/bitstreams/1376861/retrieve , accessed 5 May 2022).\\n30. United Nations Department of Social and Economic Affairs. SDG Indicators Database [online database] ( https:/ /unstats.un.org/sdgs/\\ndataportal , accessed 5 May 2022).\\n31. The impact of COVID-19 on mental, neurological and substance use services: Results of a rapid assessment. Geneva: World Health Organization; 2020 ( https:/ /apps.who.int/iris/rest/bitstreams/1310579/retrieve , accessed 5 May 2022).\\n32. Investments on grants for biomedical research by funder, type of grant, health category and recipient. Global Health Observatory [online database]. Geneva: World Health Organization ( https:/ /www.who.int/observatories/global-observatory-on-health-research-\\nand-development/monitoring/investments-on-grants-for-biomedical-research-by-funder-type-of-grant-health-category-and-recipient , accessed 5 May 2022).\\n33. Global strategy on human resources for health: workforce 2030. Geneva: World Health Organization; 2016 ( https:/ /apps.who.int/\\niris/handle/10665/250368 , accessed 5 May 2022).\\n34. Health workers: a global profile. Geneva: World Health Organization; 2006 ( https:/ /www.who.int/whr/2006/06_chap1_en.pdf?ua=1 , accessed 5 May 2022). 35. WHO National Health Workforce Accounts database [online database]. Geneva: World Health Organization (https:/ /apps.who.int/ nhwaportal/, accessed 5 May 2022).\\n36. The impact of COVID-19 on health and care workers: a closer look at deaths.', mimetype='text/plain', start_char_idx=0, end_char_idx=3557, text_template='{metadata_str}\\n\\n{content}', metadata_template='{key}: {value}', metadata_seperator='\\n'), score=0.7312875977635925),\n",
       " NodeWithScore(node=TextNode(id_='32f50693-08cc-48f3-a93f-f5f3fb7503f9', embedding=None, metadata={'page_label': '67', 'file_name': 'who_stats_2022.pdf', 'file_path': 'd:\\\\VS Code\\\\python\\\\GenAI-Cookbook\\\\RAG_techniques\\\\..\\\\data\\\\who_stats_2022.pdf', 'file_type': 'application/pdf', 'file_size': 7925105, 'creation_date': '2024-09-08', 'last_modified_date': '2024-09-08'}, excluded_embed_metadata_keys=['file_name', 'file_type', 'file_size', 'creation_date', 'last_modified_date', 'last_accessed_date'], excluded_llm_metadata_keys=['file_name', 'file_type', 'file_size', 'creation_date', 'last_modified_date', 'last_accessed_date'], relationships={<NodeRelationship.SOURCE: '1'>: RelatedNodeInfo(node_id='a20640a3-7564-40fb-bab8-32c318e7dc42', node_type=<ObjectType.DOCUMENT: '4'>, metadata={'page_label': '67', 'file_name': 'who_stats_2022.pdf', 'file_path': 'd:\\\\VS Code\\\\python\\\\GenAI-Cookbook\\\\RAG_techniques\\\\..\\\\data\\\\who_stats_2022.pdf', 'file_type': 'application/pdf', 'file_size': 7925105, 'creation_date': '2024-09-08', 'last_modified_date': '2024-09-08'}, hash='36e6cd485e2fe3ec818667364a168a528dd14ba606c119bbe818bba00f5335c1')}, text='71Pathway to Universal Health Coverage\\nMedicines and other health products\\nBefore the COVID-19 pandemic, an estimated two billion people lacked regular access to essential medicines (38). Access to and delivery of medicines, vaccines and diagnostic tools are vital to address existing and emerging health issues. A sample of 25 countries surveyed between 2008 and 2019 shows a substantial variation in access, with a range of 0 to 69% (median of 15%) of health facilities providing an available and affordable set of essential medicines for the treatment, prevention and management of acute and chronic diseases. In over one quarter (28%) of countries, no facility provided all these basic medicines (39). With the COVID-19 pandemic, the world now faces unprecedented challenges to access essential medicines and other health commodities. Drug shortages, hoarding of medicines and supplies, and the circulation of falsified health products have already exacerbated this global health challenge (38).', mimetype='text/plain', start_char_idx=0, end_char_idx=999, text_template='{metadata_str}\\n\\n{content}', metadata_template='{key}: {value}', metadata_seperator='\\n'), score=0.7302977072622735),\n",
       " NodeWithScore(node=TextNode(id_='96a99cbf-bca7-4539-a779-ad09a8b13b15', embedding=None, metadata={'page_label': 'vii', 'file_name': 'who_stats_2022.pdf', 'file_path': 'd:\\\\VS Code\\\\python\\\\GenAI-Cookbook\\\\RAG_techniques\\\\..\\\\data\\\\who_stats_2022.pdf', 'file_type': 'application/pdf', 'file_size': 7925105, 'creation_date': '2024-09-08', 'last_modified_date': '2024-09-08'}, excluded_embed_metadata_keys=['file_name', 'file_type', 'file_size', 'creation_date', 'last_modified_date', 'last_accessed_date'], excluded_llm_metadata_keys=['file_name', 'file_type', 'file_size', 'creation_date', 'last_modified_date', 'last_accessed_date'], relationships={<NodeRelationship.SOURCE: '1'>: RelatedNodeInfo(node_id='5a0f9ddd-55fc-4345-8b4b-e3b40038802e', node_type=<ObjectType.DOCUMENT: '4'>, metadata={'page_label': 'vii', 'file_name': 'who_stats_2022.pdf', 'file_path': 'd:\\\\VS Code\\\\python\\\\GenAI-Cookbook\\\\RAG_techniques\\\\..\\\\data\\\\who_stats_2022.pdf', 'file_type': 'application/pdf', 'file_size': 7925105, 'creation_date': '2024-09-08', 'last_modified_date': '2024-09-08'}, hash='5040fbfa10845aad19747131dc52430a471f0d6a6b68367cfc19c0aa59fd03f0'), <NodeRelationship.NEXT: '3'>: RelatedNodeInfo(node_id='c4b76161-d35e-44a4-a9b4-4ca060bc2d9f', node_type=<ObjectType.TEXT: '1'>, metadata={}, hash='77d4d7f0d988a2b134238c63c8bc8aad31a2145aae6347e8ea86a45ffd02deec')}, text='vii • Key messages\\nCoronavirus disease (COVID-19) continues to be a global threat to health more than two years after being declared a public health emergency of international concern by WHO. As of 20 April 2022, there had been 50.4 million confirmed cases of COVID-19, including 6.2 million deaths directly attributable to COVID-19. The WHO Region of the Americas and the European Region accounted for almost 72% of all reported cases and 75% of reported COVID-19 deaths. However, many countries have limited testing capacity and lack functioning vital statistics or registration systems to provide accurate and complete mortality data and causes of death. Consequently, the global number of COVID-19 cases and deaths is underreported. WHO excess mortality estimates show that the actual death toll associated directly or indirectly with the COVID-19 pandemic between 1 January 2020 and 31 December 2021 was approximately 14.9 million worldwide–– or 9.5 million more deaths than the initially reported 5.4 million COVID-19 deaths during that period. Significant inequalities underpin the distribution of COVID-19 cases and deaths, as well as access to vaccinations. COVID-19 has disproportionately affected vulnerable populations, including those who are economically disadvantaged, the elderly and people with existing underlying health conditions, and the unvaccinated. Higher-\\nrisk populations need better protection against severe illness, more transmissible variants of coronavirus and death due to COVID-19 infection. Yet, they remain critically underserved by vaccination programmes in many countries. In the latter part of 2021 and in early 2022, the global vaccine supply increased to such a degree that supply was no longer a constraint. In early 2022, there were enough vaccine doses to protect every adult and adolescent (12 years and older) in the world with a three-dose regimen. As of 25 April 2022, 74% of persons in high-\\nincome countries (HICs) and 74% in upper-middle-income countries (UMICs) were vaccinated (that is, they had completed their primary series of vaccination), as were 51% in lower-middle-income (LMICs) countries, compared with only 12% of persons in low-income countries (LICs). In LICs, only three in 10 health care workers had been fully vaccinated against COVID-19 by April 2022, compared with a global average of 80%. Only 25% of adults aged over 60 years were fully vaccinated in African countries and only 11% of people with comorbidities had completed the primary series. Research shows that vaccine hesitancy is not the main challenge holding back vaccination programmes in low- and lower-income countries.\\nThe pandemic continues to affect health systems worldwide, in some cases severely. Conducted during the final quarter of 2021 and with inputs of 129 countries, the third round of the WHO global pulse survey on continuity of essential health services during the COVID-19 pandemic found little to no improvement in service disruptions since early 2021 when the previous survey was conducted. In more than one half of surveyed countries, day-\\nto-day primary and community care for the prevention and management of some of the most common health conditions were badly affected. Elective, critical and operative care was disrupted in 38% of reporting countries and close to one half of countries reported that routine immunization services were disrupted in the final quarter of 2021. Lower-income countries generally reported more disruption to services than HICs. The main reasons for disruptions were temporary closures or postponement of services (40% of countries), as well as shortages of staff, essential medicines and diagnostics, and of health facility infrastructure and space (36% of countries). Many millions of people have missed out on vital health care. If these disruptions are allowed to persist, they will have potentially major implications for morbidity and mortality and for the evolution of other communicable disease epidemics.\\nPeople continue to live longer and live more years in good health. Global life expectancy at birth increased from 66.8 years in 2000 to 73.3 years in 2019, and healthy life expectancy (HALE) increased from 58.3 years to 63.7  years. However, health inequalities continue to claim a disproportionate toll on life and health in lower-resource settings. Both life expectancy and HALE were at least 10 years lower in LICs than in HICs in 2019, despite the dramatic improvements observed since 2000, with gains of 11 and 10 years, respectively. Both indicators were consistently higher for women than men by approximately 5 and 2.4 years, respectively.', mimetype='text/plain', start_char_idx=0, end_char_idx=4645, text_template='{metadata_str}\\n\\n{content}', metadata_template='{key}: {value}', metadata_seperator='\\n'), score=0.7269607297324067),\n",
       " NodeWithScore(node=TextNode(id_='0d63d5c8-6b88-4c8e-a80c-c0cefe4029c2', embedding=None, metadata={'page_label': 'ix', 'file_name': 'who_stats_2022.pdf', 'file_path': 'd:\\\\VS Code\\\\python\\\\GenAI-Cookbook\\\\RAG_techniques\\\\..\\\\data\\\\who_stats_2022.pdf', 'file_type': 'application/pdf', 'file_size': 7925105, 'creation_date': '2024-09-08', 'last_modified_date': '2024-09-08'}, excluded_embed_metadata_keys=['file_name', 'file_type', 'file_size', 'creation_date', 'last_modified_date', 'last_accessed_date'], excluded_llm_metadata_keys=['file_name', 'file_type', 'file_size', 'creation_date', 'last_modified_date', 'last_accessed_date'], relationships={<NodeRelationship.SOURCE: '1'>: RelatedNodeInfo(node_id='e8409833-113a-4e9c-b62a-349b143f8752', node_type=<ObjectType.DOCUMENT: '4'>, metadata={'page_label': 'ix', 'file_name': 'who_stats_2022.pdf', 'file_path': 'd:\\\\VS Code\\\\python\\\\GenAI-Cookbook\\\\RAG_techniques\\\\..\\\\data\\\\who_stats_2022.pdf', 'file_type': 'application/pdf', 'file_size': 7925105, 'creation_date': '2024-09-08', 'last_modified_date': '2024-09-08'}, hash='ec4c9abd0ed1c035b222ce2f1757ff772c2f3278baae261f7306fec401a40d97')}, text='ixKey messages\\nwith out-of-pocket health spending exceeding 10% of their household budget grew from 9.4% in 2000 to 13.2% in 2017. COVID-19 is expected to both halt the progress made in service coverage over the past 20 years and exacerbate the financial hardship experienced by people paying out-of-pocket for health. WHO, the World Bank Group and the Organization for Economic Co-operation and Development are urging stronger progress in three priority areas to accelerate progress towards UHC: primary health care, sustainable financing, and strengthening of health system capacities, particularly the health workforce.\\nPrimary health care is the cornerstone of an equitable and resilient health system. Insufficient attention to the central role of primary health care slowed the effectiveness of the response to the pandemic and triggered disruptions to routine care in many countries, thus threatening progress made prior to the pandemic. On average, countries reported that about 56% of 28 tracer essential services had been disrupted in the third quarter of 2020 and 41% were still being disrupted in early 2021. All health care settings and service delivery platforms were affected, particularly first-contact services.\\nAdequate and sustained health financing is a prerequisite for well-functioning health systems and for the achievement of UHC. Sustainable health financing entails having sufficient resources to fund the health system and to protect populations against financial hardship when they use health services. Global spending on health more than doubled in real terms between 2000 and 2019, reaching 9.8% of the global gross domestic product. Approximately 80% of that spending occurred in HICs, with the bulk of it (about 70%) coming from government budgets. In LICs, out-of-pocket spending was the main source of health expenditure (44%), followed by external aid (29%).\\nThe COVID-19 pandemic has placed unprecedented pressure on health systems’ capacities, particularly health workforces. Even prior to the pandemic, the capacity to deliver essential health services in many countries was limited due to persistent health workforce shortages. Already, in 2016, WHO had projected a global shortfall of 18 million health care workers by 2030, especially in the WHO African and South-East Asian regions. Notably, the African Region, which bears almost one quarter (24%) of the world’s disease burden, had only 3% of the world’s health care workers.\\nOverall, urgent actions are needed to achieve the target of having an additional one billion people enjoying UHC by 2030. Based on current trends, approximately 730 million people will miss out on UHC; if the effects of the COVID-19 pandemic and its disruptions are taken into account, that shortfall could rise to 840 million.\\n• The world is off track to reach the triple billion targets from the GPW13 and most health-related Sustainable Development Goals. The triple billion targets embody WHO’s mission to promote health and well-being, keep the world safe, and serve the vulnerable.\\n• Health emergencies protection:  One billion more people are better protected from health emergencies  Although initial projections anticipated this billion could be met by 2023, COVID-19 has revealed that no country is fully prepared for a pandemic of such scale.\\n• Healthier populations:  One billion more people are enjoying better health and well-being  Although the billion target is projected to be almost reached by 2023, progress is around 1/4 of that required to reach the Sustainable Development Goals by 2030.\\n• Universal Health Coverage:  One billion more people are benefitting from universal health coverage  The billion target will not be reached by 2023, and progress is less than 1/4 of that required to reach the Sustainable Development Goals by 2030.', mimetype='text/plain', start_char_idx=0, end_char_idx=3828, text_template='{metadata_str}\\n\\n{content}', metadata_template='{key}: {value}', metadata_seperator='\\n'), score=0.7264383930877718)]"
      ]
     },
     "execution_count": 59,
     "metadata": {},
     "output_type": "execute_result"
    }
   ],
   "source": [
    "contexts"
   ]
  },
  {
   "cell_type": "markdown",
   "metadata": {},
   "source": [
    "#### Each context document has a score"
   ]
  },
  {
   "cell_type": "code",
   "execution_count": 74,
   "metadata": {},
   "outputs": [
    {
     "data": {
      "text/plain": [
       "0.7730778862568785"
      ]
     },
     "execution_count": 74,
     "metadata": {},
     "output_type": "execute_result"
    }
   ],
   "source": [
    "contexts[0].score"
   ]
  },
  {
   "cell_type": "markdown",
   "metadata": {},
   "source": [
    "#### Extract just the text from node document"
   ]
  },
  {
   "cell_type": "code",
   "execution_count": 60,
   "metadata": {},
   "outputs": [
    {
     "data": {
      "text/plain": [
       "10"
      ]
     },
     "execution_count": 60,
     "metadata": {},
     "output_type": "execute_result"
    }
   ],
   "source": [
    "context_list = [n.get_content() for n in contexts]\n",
    "len(context_list)"
   ]
  },
  {
   "cell_type": "code",
   "execution_count": 63,
   "metadata": {},
   "outputs": [
    {
     "name": "stdout",
     "output_type": "stream",
     "text": [
      "Note: you may need to restart the kernel to use updated packages.\n"
     ]
    }
   ],
   "source": [
    "%pip install -q llama-index-llms-gemini google-generativeai"
   ]
  },
  {
   "cell_type": "code",
   "execution_count": 64,
   "metadata": {},
   "outputs": [],
   "source": [
    "import os\n",
    "from dotenv import load_dotenv\n",
    "from langchain_google_genai import ChatGoogleGenerativeAI\n",
    "\n",
    "load_dotenv()\n",
    "\n",
    "GOOGLE_API_KEY = os.environ[\"GOOGLE_API_KEY\"]\n",
    "llm = ChatGoogleGenerativeAI(model=\"gemini-1.5-flash-latest\", temperature=0.7, max_retries=3)"
   ]
  },
  {
   "cell_type": "code",
   "execution_count": 68,
   "metadata": {},
   "outputs": [
    {
     "name": "stdout",
     "output_type": "stream",
     "text": [
      "Note: you may need to restart the kernel to use updated packages.\n"
     ]
    }
   ],
   "source": [
    "%pip install -q llama-index-llms-langchain"
   ]
  },
  {
   "cell_type": "code",
   "execution_count": 133,
   "metadata": {},
   "outputs": [],
   "source": [
    "query_engine = index.as_query_engine(llm=llm, similarity_top_k=10)"
   ]
  },
  {
   "cell_type": "code",
   "execution_count": 136,
   "metadata": {},
   "outputs": [],
   "source": [
    "response = query_engine.query(question)"
   ]
  },
  {
   "cell_type": "code",
   "execution_count": 137,
   "metadata": {},
   "outputs": [
    {
     "name": "stdout",
     "output_type": "stream",
     "text": [
      "The COVID-19 pandemic highlighted the need for more frequent data to monitor sudden changes in mortality in the Eastern Mediterranean Region. Several countries in the region were able to establish rapid mortality surveillance systems and collect data by age and sex.  \n",
      "\n"
     ]
    }
   ],
   "source": [
    "print(response.response)"
   ]
  },
  {
   "cell_type": "code",
   "execution_count": 105,
   "metadata": {},
   "outputs": [
    {
     "data": {
      "text/plain": [
       "{'response': 'The COVID-19 pandemic had a significant impact on the Eastern Mediterranean Region, particularly in terms of financial protection. While service coverage increased, catastrophic health spending also increased, indicating a worsening of financial protection. \\n',\n",
       " 'source_nodes': [NodeWithScore(node=TextNode(id_='35ae21be-25bc-4471-b170-6f31070ac537', embedding=None, metadata={'page_label': '77', 'file_name': 'who_stats_2022.pdf', 'file_path': 'd:\\\\VS Code\\\\python\\\\GenAI-Cookbook\\\\RAG_techniques\\\\..\\\\data\\\\who_stats_2022.pdf', 'file_type': 'application/pdf', 'file_size': 7925105, 'creation_date': '2024-09-08', 'last_modified_date': '2024-09-08'}, excluded_embed_metadata_keys=['file_name', 'file_type', 'file_size', 'creation_date', 'last_modified_date', 'last_accessed_date'], excluded_llm_metadata_keys=['file_name', 'file_type', 'file_size', 'creation_date', 'last_modified_date', 'last_accessed_date'], relationships={<NodeRelationship.SOURCE: '1'>: RelatedNodeInfo(node_id='eb94dc14-4746-48ab-9233-abd89dd9f97e', node_type=<ObjectType.DOCUMENT: '4'>, metadata={'page_label': '77', 'file_name': 'who_stats_2022.pdf', 'file_path': 'd:\\\\VS Code\\\\python\\\\GenAI-Cookbook\\\\RAG_techniques\\\\..\\\\data\\\\who_stats_2022.pdf', 'file_type': 'application/pdf', 'file_size': 7925105, 'creation_date': '2024-09-08', 'last_modified_date': '2024-09-08'}, hash='c60cdc54ceb667887f0999eed3ffdd1cf1f3967bc7ab28f72a15d2a49dbc7a6d')}, text='82•European Region\\nDisruptions of essential health services\\n1  Responses were obtained from 23 of 53 WHO European Region Member States.COVID-19 has added pressure to all three pillars of UHC: access to health services, quality of care, and financial protection. In 2020, the results of the first WHO pulse survey revealed that over 40% of essential health services in the WHO European region had been at least partially disrupted (4), with the disruptions occurring across all aspects of health systems. Results from the second WHO pulse survey showed that substantial disruptions persisted in 2021, with around 29% of services at least partially disrupted in the first three months of 2021 (5).1 During the rest of 2021, the extent and magnitude of those disruptions decreased compared to 2020 (6). The main causes of the disruptions have also shifted. On the supply side, shortages of personal protective equipment seemed to become less of a challenge, while the cancellation of elective care and shortages of staff and inpatient beds continued to be problems. On the demand side, the effects of the disruptions were aggravated by people’s reluctance to seek health care. This was attributed partly to governments’ appeals to the public to avoid using health facilities unless absolutely necessary, people’s assumptions that care would not be available, and their concerns about possibly acquiring or transmitting coronavirus infection at health facilities. Travel restrictions and financial barriers contributed to the decline in the use of health care services. Existing inequalities have also shaped the extent to which people have been affected by health service disruptions during COVID-19. Older people, those living in deprived areas, people with disabilities or with chronic conditions, and minority populations (such as refugees and migrants and lesbian, gay, bisexual, transgender/transsexual, intersex and queer/questioning communities) have experienced poorer access to health care compared to the rest of the population.\\nDuring the pandemic, countries in the WHO European Region have purposefully sought to adapt health insurance coverage policies to minimize financial barriers blocking access to COVID-19 treatment. Several Member States have exempted COVID19-related services from co-payments and a few have extended these exemptions to other health services, such as teleconsultations. In addition, some Member States have extended their health insurance coverage policies to irregular migrants and other people who are usually excluded from coverage. At the same time, the pandemic may have increased unmet health care needs and worsened financial hardship in several ways. For instance, the disruption of health services may have led to increased out-of-pocket health spending among people seeking quicker access to treatment and care. The economic shock of the pandemic has also reduced household incomes, especially for poorer households. Those economic shocks are also reducing government revenue, while increasing the need for publicly financed health care (10).\\nFallout from the COVID-19 pandemic has substantially hampered supply and demand for essential health services. The disruptions have aggravated existing inequalities in vulnerable and minority groups’ access to health services. While several countries in the WHO European Region acted rapidly to reduce financial barriers to COVID-19 treatment, the increasing demand for quicker access to care may have led to increased out-of-pocket payments for health and thus may have aggravated financial hardship.', mimetype='text/plain', start_char_idx=0, end_char_idx=3589, text_template='{metadata_str}\\n\\n{content}', metadata_template='{key}: {value}', metadata_seperator='\\n'), score=0.7730778862568785),\n",
       "  NodeWithScore(node=TextNode(id_='93c2b390-c459-408c-b765-abd6ed6df413', embedding=None, metadata={'page_label': '79', 'file_name': 'who_stats_2022.pdf', 'file_path': 'd:\\\\VS Code\\\\python\\\\GenAI-Cookbook\\\\RAG_techniques\\\\..\\\\data\\\\who_stats_2022.pdf', 'file_type': 'application/pdf', 'file_size': 7925105, 'creation_date': '2024-09-08', 'last_modified_date': '2024-09-08'}, excluded_embed_metadata_keys=['file_name', 'file_type', 'file_size', 'creation_date', 'last_modified_date', 'last_accessed_date'], excluded_llm_metadata_keys=['file_name', 'file_type', 'file_size', 'creation_date', 'last_modified_date', 'last_accessed_date'], relationships={<NodeRelationship.SOURCE: '1'>: RelatedNodeInfo(node_id='f1f34deb-d5da-4803-a961-4d36e0437938', node_type=<ObjectType.DOCUMENT: '4'>, metadata={'page_label': '79', 'file_name': 'who_stats_2022.pdf', 'file_path': 'd:\\\\VS Code\\\\python\\\\GenAI-Cookbook\\\\RAG_techniques\\\\..\\\\data\\\\who_stats_2022.pdf', 'file_type': 'application/pdf', 'file_size': 7925105, 'creation_date': '2024-09-08', 'last_modified_date': '2024-09-08'}, hash='f277e72e187097044d2cc7c56492f2773962dc1054de0fe6121c72ef98137c0c'), <NodeRelationship.NEXT: '3'>: RelatedNodeInfo(node_id='9f72d8b8-8177-4d3b-80a4-3f35fbe0e521', node_type=<ObjectType.TEXT: '1'>, metadata={}, hash='87380de582f6d2c7ddbe01c6dcb478736f1b0651c56ced4023d42764bb8456e0')}, text='84•South-East Asia Region\\nData-informed decision-making is vital for pandemic control and essential health services\\nAs the COVID-19 pandemic took hold in 2020, it was quickly apparent that essential services for sexual, reproductive, maternal, newborn, child and adolescent health were being disrupted in the WHO South-\\nEast Asia Region.\\nSeveral mapping exercises were conducted to study the extent of disruption and modelling exercises were performed to assess the likely effects. Modelling was done in collaboration with UNICEF’s Regional Office and the SickKids’ Center for Global Child Health in Bangladesh, India, Nepal and Sri Lanka, while studies on the impact on sexual, reproductive, maternal, newborn, child and adolescent health services were carried out through national institutions. These exercises provided some information for decision-making early in the pandemic, but it also became clear that regular monitoring information was needed to respond effectively and to maintain essential health services (11). In five countries (Bangladesh, India, Myanmar, Nepal and Timor-Leste), a two-phased, country-focused mitigation project was initiated jointly by WHO Headquarters and the Regional Office. The aim was to support country efforts to prevent additional increases in malnutrition, mental and physical ill health, and mortality among pregnant women, mothers, children, adolescents and older people by maintaining service delivery at levels as close as possible to those prior to the pandemic. The main data sources for the project were routine sexual, reproductive, maternal, newborn, child and adolescent health management information, and maternal death surveillance and response surveillance data. Based on the global list of indicators for monitoring the effects of COVID-19 on essential health services (12), the WHO Regional Office, in consultation with the mitigation project countries, selected 34 indicators for monitoring the delivery of sexual, reproductive, maternal, newborn, child and adolescent health services using data from health management information systems which countries customized and adapted. The most commonly reported indicators included facility births, antenatal care provision, DPT3 vaccine, consultations for acute respiratory infections and diarrhoea in children, caesarean sections and contraception distribution. The least-reported indicators were related to newborn health (postnatal care and early initiation of breastfeeding), child malnutrition, post-abortion complications, and adolescent sexual and reproductive health. Data were used for policy dialogues and to select mitigation options. Figs. A1.5-7 illustrate how routine health management information can help in analysing and prioritizing actions for overcoming disruptions in health services. The figures show the declining use of services during lockdown periods and gradual improvement due to several mitigation strategies employed by countries to maintain essential services. These responses included tele-counselling, the use of community-based health care workers and continued publicity about the safety of attending health facilities. The use of routine, timely, high-quality and reliable health management information data must be further developed and improved. For example, common issues encountered during the five-country project included a lack of subnational data for vulnerable populations, a lack of private sector reporting, and incomplete data sharing. Countries need to focus more on improving the quality and completeness of health management indicator data as part of their regular monitoring and use of data for decision-making. Continuous monitoring and appropriate actions are needed to track and assess progress towards achieving the SDGs, including during crises.\\nFig. A1.5.  Number of women who received injectables in Bangladesh and percentage change, 2019–2020\\n-3.18 -1.77-7.85\\n-32,98-25.43-11.5-19.03 -15.24-7.19-12.98 -10.57 -7.36\\n-100-80-60-40-20020406080100\\n0200 000400 000600 000800 0001 000 0001 200 000\\nJan Feb Mar Apr May Jun Jul Aug Sep Oct Nov DecNumber of women (percentage)\\n2019 2020 % Change\\nSource:  Analysis from the Management Information System of the Directorate General of Family Planning, Bangladesh, 2019–2020.\\nFig. A1.6.', mimetype='text/plain', start_char_idx=0, end_char_idx=4288, text_template='{metadata_str}\\n\\n{content}', metadata_template='{key}: {value}', metadata_seperator='\\n'), score=0.7543605650470909),\n",
       "  NodeWithScore(node=TextNode(id_='dfb3e866-6531-4ff1-874f-abc493250f69', embedding=None, metadata={'page_label': 'viii', 'file_name': 'who_stats_2022.pdf', 'file_path': 'd:\\\\VS Code\\\\python\\\\GenAI-Cookbook\\\\RAG_techniques\\\\..\\\\data\\\\who_stats_2022.pdf', 'file_type': 'application/pdf', 'file_size': 7925105, 'creation_date': '2024-09-08', 'last_modified_date': '2024-09-08'}, excluded_embed_metadata_keys=['file_name', 'file_type', 'file_size', 'creation_date', 'last_modified_date', 'last_accessed_date'], excluded_llm_metadata_keys=['file_name', 'file_type', 'file_size', 'creation_date', 'last_modified_date', 'last_accessed_date'], relationships={<NodeRelationship.SOURCE: '1'>: RelatedNodeInfo(node_id='aacb3b38-2a35-4437-8159-f76d8b5098fb', node_type=<ObjectType.DOCUMENT: '4'>, metadata={'page_label': 'viii', 'file_name': 'who_stats_2022.pdf', 'file_path': 'd:\\\\VS Code\\\\python\\\\GenAI-Cookbook\\\\RAG_techniques\\\\..\\\\data\\\\who_stats_2022.pdf', 'file_type': 'application/pdf', 'file_size': 7925105, 'creation_date': '2024-09-08', 'last_modified_date': '2024-09-08'}, hash='8a31c31079a6865b942ad849d7671ddec88b7ea5171c667fe491ba8da13d7975'), <NodeRelationship.PREVIOUS: '2'>: RelatedNodeInfo(node_id='d14f8ece-c790-4b00-ba22-52e058d14c4c', node_type=<ObjectType.TEXT: '1'>, metadata={'page_label': 'viii', 'file_name': 'who_stats_2022.pdf', 'file_path': 'd:\\\\VS Code\\\\python\\\\GenAI-Cookbook\\\\RAG_techniques\\\\..\\\\data\\\\who_stats_2022.pdf', 'file_type': 'application/pdf', 'file_size': 7925105, 'creation_date': '2024-09-08', 'last_modified_date': '2024-09-08'}, hash='0374776ab01dbd063d769e7867eccda698a2782b4fdb9fe96041419c587c4504')}, text='People in low- and middle-income countries are most exposed to outdoor air pollution at levels exceeding WHO air quality limits. Violence against women continued to be prevalent. Globally, about one in four (26%) women aged 15 years and older had been subjected to physical and/or sexual violence by an intimate male partner at least once in their lifetime. The COVID-19 pandemic is likely to have caused a major setback in efforts to reduce violence against women, with initial data indicating increases in intimate partner violence.\\nA more complete picture of the impact of the COVID-19 pandemic on the prevalence of these various risks awaits the collection and analysis of additional data. However, the sustained disruption of many of the relevant services point to potentially dramatic negative consequences in at least some respects. In addition, a strong body of evidence indicates that some NCD risk factors increase individuals’ risk of severe outcomes due to COVID-19. The latest global monitoring reports on universal health coverage (UHC) and financial protection in health, published by WHO and the World Bank, identified mixed trends prior to the COVID-19 pandemic. Service coverage improved steadily from an index of 45 in 2000 to 67 in 2019, while the proportion of the population', mimetype='text/plain', start_char_idx=3795, end_char_idx=5091, text_template='{metadata_str}\\n\\n{content}', metadata_template='{key}: {value}', metadata_seperator='\\n'), score=0.745796009940715),\n",
       "  NodeWithScore(node=TextNode(id_='f9017618-8884-46f4-a201-8b7b4b343364', embedding=None, metadata={'page_label': '2', 'file_name': 'who_stats_2022.pdf', 'file_path': 'd:\\\\VS Code\\\\python\\\\GenAI-Cookbook\\\\RAG_techniques\\\\..\\\\data\\\\who_stats_2022.pdf', 'file_type': 'application/pdf', 'file_size': 7925105, 'creation_date': '2024-09-08', 'last_modified_date': '2024-09-08'}, excluded_embed_metadata_keys=['file_name', 'file_type', 'file_size', 'creation_date', 'last_modified_date', 'last_accessed_date'], excluded_llm_metadata_keys=['file_name', 'file_type', 'file_size', 'creation_date', 'last_modified_date', 'last_accessed_date'], relationships={<NodeRelationship.SOURCE: '1'>: RelatedNodeInfo(node_id='dff801b1-a6cf-4db2-854e-0623cf45a2a8', node_type=<ObjectType.DOCUMENT: '4'>, metadata={'page_label': '2', 'file_name': 'who_stats_2022.pdf', 'file_path': 'd:\\\\VS Code\\\\python\\\\GenAI-Cookbook\\\\RAG_techniques\\\\..\\\\data\\\\who_stats_2022.pdf', 'file_type': 'application/pdf', 'file_size': 7925105, 'creation_date': '2024-09-08', 'last_modified_date': '2024-09-08'}, hash='d9d2c74a82e1fcd18afe898c841edb048c595bedbff6e4ec5a4faed7149fda2b')}, text='2\\nWorld Health Statistics 2022  – Monitoring health for the SDGsMore than two years after WHO characterized COVID-19 as a public health emergency of international concern on 11 March 2020, COVID-19 continues to be a global threat to health.\\nThe rapid development of COVID-19 vaccines had brought hopes that the pandemic’s death toll could be drastically contained and the pandemic itself could be halted. However, a combination of factors upended these hopes in 2021. Erratic and hesitant public health measures, deficient health system capacities, and a highly unequal access to COVID-19 vaccines saw new variants of severe acute respiratory syndrome coronavirus 2 (SARS-CoV-2) gain ascendance and drive successive waves of infection in all regions.\\nCOVID-19 continues to claim large numbers of lives worldwide. In addition, the long-term impact of infection on people’s health is not yet fully understood. Preliminary indications are that significant proportions of people who acquire the infection experience a wide range of complications (some possibly chronic) for at least several weeks after the initial infection.\\nBoth study evidence and anecdotal reports indicate that survivors of SARS-CoV-2 infection may be subject to a multitude of long-lasting symptoms. Reports of the prevalence of ongoing symptoms vary (1-3). A recent systematic review reported a prevalence of persistent symptoms in patients after mild COVID-19 infection ranged from 10% to 35% (4). Cognitive impairment, various neuropsychiatric symptoms, fatigue, headaches and other complaints are among the conditions reported four or more weeks after the initial infection (5). A detailed understanding of these long-lasting symptoms has not yet been achieved. Compounding the impact on the health of individuals is the pandemic’s disruption of social life, economic activity and, in some cases, political stability (including anti-\\nmasking protests in some countries), as well as essential health services. Shortages of health care staff, diagnostics and medicines have been reported in numerous countries, while immunization services and the diagnosis and treatment of other health conditions have also been disrupted or delayed (6-7).', mimetype='text/plain', start_char_idx=0, end_char_idx=2210, text_template='{metadata_str}\\n\\n{content}', metadata_template='{key}: {value}', metadata_seperator='\\n'), score=0.7355448069548329),\n",
       "  NodeWithScore(node=TextNode(id_='05f1f058-0967-4764-a07e-55297236d2f0', embedding=None, metadata={'page_label': '57', 'file_name': 'who_stats_2022.pdf', 'file_path': 'd:\\\\VS Code\\\\python\\\\GenAI-Cookbook\\\\RAG_techniques\\\\..\\\\data\\\\who_stats_2022.pdf', 'file_type': 'application/pdf', 'file_size': 7925105, 'creation_date': '2024-09-08', 'last_modified_date': '2024-09-08'}, excluded_embed_metadata_keys=['file_name', 'file_type', 'file_size', 'creation_date', 'last_modified_date', 'last_accessed_date'], excluded_llm_metadata_keys=['file_name', 'file_type', 'file_size', 'creation_date', 'last_modified_date', 'last_accessed_date'], relationships={<NodeRelationship.SOURCE: '1'>: RelatedNodeInfo(node_id='3e8d2ad8-0aef-4c0c-a6af-77633824c3a9', node_type=<ObjectType.DOCUMENT: '4'>, metadata={'page_label': '57', 'file_name': 'who_stats_2022.pdf', 'file_path': 'd:\\\\VS Code\\\\python\\\\GenAI-Cookbook\\\\RAG_techniques\\\\..\\\\data\\\\who_stats_2022.pdf', 'file_type': 'application/pdf', 'file_size': 7925105, 'creation_date': '2024-09-08', 'last_modified_date': '2024-09-08'}, hash='e6ec0ec0233d716af740b4b35bc9d1db72818268c8e60d04676d5dd1f1cc3e52')}, text='61Pathway to Universal Health Coverage\\n•The COVID-19 pandemic is likely to halt the progress made in service coverage over the last 20\\xa0years and exacerbate financial hardship by people paying out of pocket for health\\nThe 2021 global monitoring reports on UHC and financial protection in health published by WHO and the World Bank identified mixed pre-COVID-19 trends in SDG UHC indicators since 2000. Service coverage (SDG indicator 3.8.1) has improved slowly from a global average index of 45 in 2000 to 67 in 2019 (1). However, the proportion of the population with out-of-pocket health spending exceeding 10% of their household budget (SDG indicator 3.8.2) grew from 9.4% of the population in 2000 to 13.2% in 2017 (2). Fig. 4.1 depicts these trends for 2000–2017, the reference years for which regional values are available for both indicators. • Quadrant 1 shows the regions with relatively high levels of service coverage and relatively low proportions of people with large out-of-pocket expenditures on health. Only two WHO regions––Europe and the Americas––were in this quadrant. • Quadrant II includes regions with relatively high service coverage, but at a major cost to households (that is, with relatively high levels of catastrophic health spending). In 2017, the WHO Western Pacific Region was in this quadrant. It experienced rapid improvements in service coverage since 2000, but also recorded the fastest increases in catastrophic health spending. Lack of data currently prevents a detailed and comprehensive assessment of the impact of COVID-19 on the path to UHC. Nevertheless, the combined health and economic impact of COVID-19, such as disruptions in the delivery of essential health services (3-5), rising poverty and widening income inequality, point towards the strong likelihood of a significant worsening of financial protection globally. People are likely to face greater financial constraints to access care and financial hardship is likely to worsen further among those paying out-of-pocket for health, particularly in already disadvantaged populations (1, 2).\\n• South-East Asia was in quadrant III in 2017, meaning it experienced relatively low service coverage and relatively high rates of catastrophic health spending. • The African Region and the Eastern Mediterranean Region were in quadrant IV. Service coverage was relatively low and it increased in both these regions, although it was accompanied by increased catastrophic health spending in the Eastern Mediterranean Region. WHO, the World Bank Group and the Organization for Economic Co-operation and Development (OECD) are urging stronger progress in three priority areas to accelerate progress towards UHC: primary health care; sustainable financing; and strengthening of health system capacities (particularly the health workforce) (6).', mimetype='text/plain', start_char_idx=0, end_char_idx=2829, text_template='{metadata_str}\\n\\n{content}', metadata_template='{key}: {value}', metadata_seperator='\\n'), score=0.7341625846678379)],\n",
       " 'metadata': {'35ae21be-25bc-4471-b170-6f31070ac537': {'page_label': '77',\n",
       "   'file_name': 'who_stats_2022.pdf',\n",
       "   'file_path': 'd:\\\\VS Code\\\\python\\\\GenAI-Cookbook\\\\RAG_techniques\\\\..\\\\data\\\\who_stats_2022.pdf',\n",
       "   'file_type': 'application/pdf',\n",
       "   'file_size': 7925105,\n",
       "   'creation_date': '2024-09-08',\n",
       "   'last_modified_date': '2024-09-08'},\n",
       "  '93c2b390-c459-408c-b765-abd6ed6df413': {'page_label': '79',\n",
       "   'file_name': 'who_stats_2022.pdf',\n",
       "   'file_path': 'd:\\\\VS Code\\\\python\\\\GenAI-Cookbook\\\\RAG_techniques\\\\..\\\\data\\\\who_stats_2022.pdf',\n",
       "   'file_type': 'application/pdf',\n",
       "   'file_size': 7925105,\n",
       "   'creation_date': '2024-09-08',\n",
       "   'last_modified_date': '2024-09-08'},\n",
       "  'dfb3e866-6531-4ff1-874f-abc493250f69': {'page_label': 'viii',\n",
       "   'file_name': 'who_stats_2022.pdf',\n",
       "   'file_path': 'd:\\\\VS Code\\\\python\\\\GenAI-Cookbook\\\\RAG_techniques\\\\..\\\\data\\\\who_stats_2022.pdf',\n",
       "   'file_type': 'application/pdf',\n",
       "   'file_size': 7925105,\n",
       "   'creation_date': '2024-09-08',\n",
       "   'last_modified_date': '2024-09-08'},\n",
       "  'f9017618-8884-46f4-a201-8b7b4b343364': {'page_label': '2',\n",
       "   'file_name': 'who_stats_2022.pdf',\n",
       "   'file_path': 'd:\\\\VS Code\\\\python\\\\GenAI-Cookbook\\\\RAG_techniques\\\\..\\\\data\\\\who_stats_2022.pdf',\n",
       "   'file_type': 'application/pdf',\n",
       "   'file_size': 7925105,\n",
       "   'creation_date': '2024-09-08',\n",
       "   'last_modified_date': '2024-09-08'},\n",
       "  '05f1f058-0967-4764-a07e-55297236d2f0': {'page_label': '57',\n",
       "   'file_name': 'who_stats_2022.pdf',\n",
       "   'file_path': 'd:\\\\VS Code\\\\python\\\\GenAI-Cookbook\\\\RAG_techniques\\\\..\\\\data\\\\who_stats_2022.pdf',\n",
       "   'file_type': 'application/pdf',\n",
       "   'file_size': 7925105,\n",
       "   'creation_date': '2024-09-08',\n",
       "   'last_modified_date': '2024-09-08'}}}"
      ]
     },
     "execution_count": 105,
     "metadata": {},
     "output_type": "execute_result"
    }
   ],
   "source": [
    "vars(response)"
   ]
  },
  {
   "cell_type": "markdown",
   "metadata": {},
   "source": [
    "### Query with prompt template"
   ]
  },
  {
   "cell_type": "code",
   "execution_count": 75,
   "metadata": {},
   "outputs": [],
   "source": [
    "from llama_index.core import PromptTemplate\n",
    "\n",
    "from llama_index.core import PromptTemplate\n",
    "\n",
    "template = (\n",
    "    \"We have provided context information below. \\n\"\n",
    "    \"---------------------\\n\"\n",
    "    \"{context_str}\"\n",
    "    \"\\n---------------------\\n\"\n",
    "    \"Given this information, please answer the question: {query_str}\\n\"\n",
    ")\n",
    "qa_template = PromptTemplate(template)"
   ]
  },
  {
   "cell_type": "code",
   "execution_count": 117,
   "metadata": {},
   "outputs": [],
   "source": [
    "def getContextDocuments(query:str):\n",
    "    contexts = retriever.retrieve(question)\n",
    "    \n",
    "    context_list = [n.get_content() for n in contexts]\n",
    "    len(context_list)\n",
    "    \n",
    "    return  \"\\n\\n\".join(str(x) for x in context_list)"
   ]
  },
  {
   "cell_type": "markdown",
   "metadata": {},
   "source": [
    "### Print template filled with query and context"
   ]
  },
  {
   "cell_type": "code",
   "execution_count": 118,
   "metadata": {},
   "outputs": [
    {
     "name": "stdout",
     "output_type": "stream",
     "text": [
      "We have provided context information below. \n",
      "---------------------\n",
      "82•European Region\n",
      "Disruptions of essential health services\n",
      "1  Responses were obtained from 23 of 53 WHO European Region Member States.COVID-19 has added pressure to all three pillars of UHC: access to health services, quality of care, and financial protection. In 2020, the results of the first WHO pulse survey revealed that over 40% of essential health services in the WHO European region had been at least partially disrupted (4), with the disruptions occurring across all aspects of health systems. Results from the second WHO pulse survey showed that substantial disruptions persisted in 2021, with around 29% of services at least partially disrupted in the first three months of 2021 (5).1 During the rest of 2021, the extent and magnitude of those disruptions decreased compared to 2020 (6). The main causes of the disruptions have also shifted. On the supply side, shortages of personal protective equipment seemed to become less of a challenge, while the cancellation of elective care and shortages of staff and inpatient beds continued to be problems. On the demand side, the effects of the disruptions were aggravated by people’s reluctance to seek health care. This was attributed partly to governments’ appeals to the public to avoid using health facilities unless absolutely necessary, people’s assumptions that care would not be available, and their concerns about possibly acquiring or transmitting coronavirus infection at health facilities. Travel restrictions and financial barriers contributed to the decline in the use of health care services. Existing inequalities have also shaped the extent to which people have been affected by health service disruptions during COVID-19. Older people, those living in deprived areas, people with disabilities or with chronic conditions, and minority populations (such as refugees and migrants and lesbian, gay, bisexual, transgender/transsexual, intersex and queer/questioning communities) have experienced poorer access to health care compared to the rest of the population.\n",
      "During the pandemic, countries in the WHO European Region have purposefully sought to adapt health insurance coverage policies to minimize financial barriers blocking access to COVID-19 treatment. Several Member States have exempted COVID19-related services from co-payments and a few have extended these exemptions to other health services, such as teleconsultations. In addition, some Member States have extended their health insurance coverage policies to irregular migrants and other people who are usually excluded from coverage. At the same time, the pandemic may have increased unmet health care needs and worsened financial hardship in several ways. For instance, the disruption of health services may have led to increased out-of-pocket health spending among people seeking quicker access to treatment and care. The economic shock of the pandemic has also reduced household incomes, especially for poorer households. Those economic shocks are also reducing government revenue, while increasing the need for publicly financed health care (10).\n",
      "Fallout from the COVID-19 pandemic has substantially hampered supply and demand for essential health services. The disruptions have aggravated existing inequalities in vulnerable and minority groups’ access to health services. While several countries in the WHO European Region acted rapidly to reduce financial barriers to COVID-19 treatment, the increasing demand for quicker access to care may have led to increased out-of-pocket payments for health and thus may have aggravated financial hardship.\n",
      "\n",
      "84•South-East Asia Region\n",
      "Data-informed decision-making is vital for pandemic control and essential health services\n",
      "As the COVID-19 pandemic took hold in 2020, it was quickly apparent that essential services for sexual, reproductive, maternal, newborn, child and adolescent health were being disrupted in the WHO South-\n",
      "East Asia Region.\n",
      "Several mapping exercises were conducted to study the extent of disruption and modelling exercises were performed to assess the likely effects. Modelling was done in collaboration with UNICEF’s Regional Office and the SickKids’ Center for Global Child Health in Bangladesh, India, Nepal and Sri Lanka, while studies on the impact on sexual, reproductive, maternal, newborn, child and adolescent health services were carried out through national institutions. These exercises provided some information for decision-making early in the pandemic, but it also became clear that regular monitoring information was needed to respond effectively and to maintain essential health services (11). In five countries (Bangladesh, India, Myanmar, Nepal and Timor-Leste), a two-phased, country-focused mitigation project was initiated jointly by WHO Headquarters and the Regional Office. The aim was to support country efforts to prevent additional increases in malnutrition, mental and physical ill health, and mortality among pregnant women, mothers, children, adolescents and older people by maintaining service delivery at levels as close as possible to those prior to the pandemic. The main data sources for the project were routine sexual, reproductive, maternal, newborn, child and adolescent health management information, and maternal death surveillance and response surveillance data. Based on the global list of indicators for monitoring the effects of COVID-19 on essential health services (12), the WHO Regional Office, in consultation with the mitigation project countries, selected 34 indicators for monitoring the delivery of sexual, reproductive, maternal, newborn, child and adolescent health services using data from health management information systems which countries customized and adapted. The most commonly reported indicators included facility births, antenatal care provision, DPT3 vaccine, consultations for acute respiratory infections and diarrhoea in children, caesarean sections and contraception distribution. The least-reported indicators were related to newborn health (postnatal care and early initiation of breastfeeding), child malnutrition, post-abortion complications, and adolescent sexual and reproductive health. Data were used for policy dialogues and to select mitigation options. Figs. A1.5-7 illustrate how routine health management information can help in analysing and prioritizing actions for overcoming disruptions in health services. The figures show the declining use of services during lockdown periods and gradual improvement due to several mitigation strategies employed by countries to maintain essential services. These responses included tele-counselling, the use of community-based health care workers and continued publicity about the safety of attending health facilities. The use of routine, timely, high-quality and reliable health management information data must be further developed and improved. For example, common issues encountered during the five-country project included a lack of subnational data for vulnerable populations, a lack of private sector reporting, and incomplete data sharing. Countries need to focus more on improving the quality and completeness of health management indicator data as part of their regular monitoring and use of data for decision-making. Continuous monitoring and appropriate actions are needed to track and assess progress towards achieving the SDGs, including during crises.\n",
      "Fig. A1.5.  Number of women who received injectables in Bangladesh and percentage change, 2019–2020\n",
      "-3.18 -1.77-7.85\n",
      "-32,98-25.43-11.5-19.03 -15.24-7.19-12.98 -10.57 -7.36\n",
      "-100-80-60-40-20020406080100\n",
      "0200 000400 000600 000800 0001 000 0001 200 000\n",
      "Jan Feb Mar Apr May Jun Jul Aug Sep Oct Nov DecNumber of women (percentage)\n",
      "2019 2020 % Change\n",
      "Source:  Analysis from the Management Information System of the Directorate General of Family Planning, Bangladesh, 2019–2020.\n",
      "Fig. A1.6.\n",
      "\n",
      "People in low- and middle-income countries are most exposed to outdoor air pollution at levels exceeding WHO air quality limits. Violence against women continued to be prevalent. Globally, about one in four (26%) women aged 15 years and older had been subjected to physical and/or sexual violence by an intimate male partner at least once in their lifetime. The COVID-19 pandemic is likely to have caused a major setback in efforts to reduce violence against women, with initial data indicating increases in intimate partner violence.\n",
      "A more complete picture of the impact of the COVID-19 pandemic on the prevalence of these various risks awaits the collection and analysis of additional data. However, the sustained disruption of many of the relevant services point to potentially dramatic negative consequences in at least some respects. In addition, a strong body of evidence indicates that some NCD risk factors increase individuals’ risk of severe outcomes due to COVID-19. The latest global monitoring reports on universal health coverage (UHC) and financial protection in health, published by WHO and the World Bank, identified mixed trends prior to the COVID-19 pandemic. Service coverage improved steadily from an index of 45 in 2000 to 67 in 2019, while the proportion of the population\n",
      "\n",
      "2\n",
      "World Health Statistics 2022  – Monitoring health for the SDGsMore than two years after WHO characterized COVID-19 as a public health emergency of international concern on 11 March 2020, COVID-19 continues to be a global threat to health.\n",
      "The rapid development of COVID-19 vaccines had brought hopes that the pandemic’s death toll could be drastically contained and the pandemic itself could be halted. However, a combination of factors upended these hopes in 2021. Erratic and hesitant public health measures, deficient health system capacities, and a highly unequal access to COVID-19 vaccines saw new variants of severe acute respiratory syndrome coronavirus 2 (SARS-CoV-2) gain ascendance and drive successive waves of infection in all regions.\n",
      "COVID-19 continues to claim large numbers of lives worldwide. In addition, the long-term impact of infection on people’s health is not yet fully understood. Preliminary indications are that significant proportions of people who acquire the infection experience a wide range of complications (some possibly chronic) for at least several weeks after the initial infection.\n",
      "Both study evidence and anecdotal reports indicate that survivors of SARS-CoV-2 infection may be subject to a multitude of long-lasting symptoms. Reports of the prevalence of ongoing symptoms vary (1-3). A recent systematic review reported a prevalence of persistent symptoms in patients after mild COVID-19 infection ranged from 10% to 35% (4). Cognitive impairment, various neuropsychiatric symptoms, fatigue, headaches and other complaints are among the conditions reported four or more weeks after the initial infection (5). A detailed understanding of these long-lasting symptoms has not yet been achieved. Compounding the impact on the health of individuals is the pandemic’s disruption of social life, economic activity and, in some cases, political stability (including anti-\n",
      "masking protests in some countries), as well as essential health services. Shortages of health care staff, diagnostics and medicines have been reported in numerous countries, while immunization services and the diagnosis and treatment of other health conditions have also been disrupted or delayed (6-7).\n",
      "\n",
      "61Pathway to Universal Health Coverage\n",
      "•The COVID-19 pandemic is likely to halt the progress made in service coverage over the last 20 years and exacerbate financial hardship by people paying out of pocket for health\n",
      "The 2021 global monitoring reports on UHC and financial protection in health published by WHO and the World Bank identified mixed pre-COVID-19 trends in SDG UHC indicators since 2000. Service coverage (SDG indicator 3.8.1) has improved slowly from a global average index of 45 in 2000 to 67 in 2019 (1). However, the proportion of the population with out-of-pocket health spending exceeding 10% of their household budget (SDG indicator 3.8.2) grew from 9.4% of the population in 2000 to 13.2% in 2017 (2). Fig. 4.1 depicts these trends for 2000–2017, the reference years for which regional values are available for both indicators. • Quadrant 1 shows the regions with relatively high levels of service coverage and relatively low proportions of people with large out-of-pocket expenditures on health. Only two WHO regions––Europe and the Americas––were in this quadrant. • Quadrant II includes regions with relatively high service coverage, but at a major cost to households (that is, with relatively high levels of catastrophic health spending). In 2017, the WHO Western Pacific Region was in this quadrant. It experienced rapid improvements in service coverage since 2000, but also recorded the fastest increases in catastrophic health spending. Lack of data currently prevents a detailed and comprehensive assessment of the impact of COVID-19 on the path to UHC. Nevertheless, the combined health and economic impact of COVID-19, such as disruptions in the delivery of essential health services (3-5), rising poverty and widening income inequality, point towards the strong likelihood of a significant worsening of financial protection globally. People are likely to face greater financial constraints to access care and financial hardship is likely to worsen further among those paying out-of-pocket for health, particularly in already disadvantaged populations (1, 2).\n",
      "• South-East Asia was in quadrant III in 2017, meaning it experienced relatively low service coverage and relatively high rates of catastrophic health spending. • The African Region and the Eastern Mediterranean Region were in quadrant IV. Service coverage was relatively low and it increased in both these regions, although it was accompanied by increased catastrophic health spending in the Eastern Mediterranean Region. WHO, the World Bank Group and the Organization for Economic Co-operation and Development (OECD) are urging stronger progress in three priority areas to accelerate progress towards UHC: primary health care; sustainable financing; and strengthening of health system capacities (particularly the health workforce) (6).\n",
      "\n",
      "80•Eastern Mediterranean Region Building capacity to calculate excess mortality during the COVID-19 pandemic\n",
      "All-cause mortality registration systems are important to determine the actual toll a pandemic such as COVID-19 is taking on individuals and communities. WHO has been working with countries of the Eastern Mediterranean Region since 2012 to improve their mortality registration systems. A total of 16 countries in the region currently report annual mortality data by cause of death to WHO. However, the COVID-19 pandemic has highlighted the urgent need for more frequent data to monitor sudden changes in mortality. To that end, WHO has strengthened country capacities to report weekly mortality data by all causes (natural and non-natural) and COVID-19 deaths on an online platform. Focal persons from information health units and mortality and cause-\n",
      "of-death registration programmes were familiarized with the online platform through regular virtual meetings. Technical support to countries focused on the process of compiling, reviewing and validating total numbers of deaths and COVID-19 deaths in order to generate reliable data for calculating age- and sex-specific mortality indicators. The validation process was two-fold: continuous communication with death registration programme focal persons at national level, and regular WHO Regional Office feedback to maintain instant reporting of quality accepted and complete data. This approach made it possible to set weekly benchmarks and assess excess mortality in 2020 compared to previous years (8), with countries able to use the data for planning and decision-making.\n",
      "Several meetings with mortality data focal points were held to introduce innovations related to the implementation of mortality surveillance systems and collection of data by age and sex. This led to the establishment of rapid mortality surveillance in Jordan and the Syrian Arab Republic. Capacity-building workshops were also organized to train country teams responsible for health information systems on the use of excess mortality calculator and interpretation of results (9). Countries with strong digital integrated health information platforms (for example, Oman) were able to develop weekly mortality curves by age and sex, as well as identify excess mortality in 2020. Lebanon also made significant improvements in its death registration system. Despite its limited infrastructure, Lebanon used available mortality data by all causes of death to validate COVID-19 deaths and assess the true impact of the COVID-19 pandemic. Iraq and Tunisia also reported on monthly total deaths and were able to determine excess deaths in 2020 in comparison to 2019. Seven countries in the Eastern Mediterranean Region have reported total deaths during the pandemic period, data that have contributed to estimations of COVID-19 excess mortality at the regional and global levels. Countries with a high coverage of death registration and efficient registration systems showed little difference between estimated and reported total deaths in 2020 (Fig. A1.4). Reporting on mortality data by causes of death using the standardized reporting of the International Classification of Diseases (10th revision) was key to enable countries to identify the impact of COVID-19 to cause deaths within their top 10 leading causes of death. Mortality data for Lebanon, Oman, Qatar, Tunisia and the United Arab Emirates were publicly available by causes of death, which was helpful for identifying the top 10 leading causes of death in 2020, including COVID-19 direct deaths, and for estimating excess deaths associated with COVID-19 mortality during that year.\n",
      "Fig. A1.4.  Reported crude deaths rates (per 100 000 population), adjusted for COVID-19 deaths, Eastern Mediterranean Region, 2019 and 2020\n",
      "0 100 200 300 400 500 600 700\n",
      "2020 2019United Arab EmiratesTunisia\n",
      "Syria\n",
      "Saudi Arabia\n",
      "QatarOman\n",
      "Occupied Palestinian territory\n",
      "MoroccoLibya\n",
      "Lebanon\n",
      "KuwaitJordanIraqIran, Islamic Republic ofEgypt\n",
      "Bahrain\n",
      "Source:  WHO, 2022.\n",
      "\n",
      "73Pathway to Universal Health Coverage\n",
      "20.  The impact of COVID-19 on HIV, TB and Malaria Services and Systems for Health, Geneva: Global Fund to Fight AIDS, Tuberculosis and Malaria, 2021 (https:/ /www.theglobalfund.org/media/10776/covid-19_2020-disruption-impact_report_en.pdf, accessed on 12 May 2022).\n",
      "21. Global tuberculosis report Geneva: World Health Organization; 2021 ( https:/ /www.who.int/publications/i/item/9789240037021 , accessed 5 May 2022).\n",
      "22. Bertozzi-Villa A, Bever CA, Koenker H, Weiss DJ, Vargas-Ruiz C, Nandi AK, et al. Maps and metrics of insecticide-treated net access, use, and nets-per-capita in Africa from 2000-Nat Commun. 2021;12(1):\n",
      "23. World malaria report Geneva: World Health Organization; 2021 ( https:/ /www.who.int/publications/i/item/9789240040496 , accessed 5 May 2022).\n",
      "24. NCD Risk Factor Collaboration (NCD-RisC). Worldwide trends in hypertension prevalence and progress in treatment and control from 1990 to 2019: a pooled analysis of 1201 population-representative studies with 104 million participants., Lancet 2021;398(10304):957–980.\n",
      "25. The impact of the COVID-19 pandemic on noncommunicable disease resources and services: results of a rapid assessment. Geneva: World Health Organization; 2020 ( https:/ /apps.who.int/iris/rest/bitstreams/1299882/retrieve , accessed 5 May 2022).\n",
      "26. Assessing national capacity for the prevention and control of noncommunicable diseases: report of the 2021 global survey. Geneva: World Health Organization; [in press].\n",
      "27. Global health estimates 2019: disease burden by cause, age, sex, by country and by region, 2000–Geneva: World Health Organization; 2020 ( https:/ /www.who.int/data/gho/data/themes/mortality-and-global-health-estimates/global-health-estimates-leading-causes-\n",
      "of-dalys , accessed 11 May 2022).\n",
      "28. Chisholm D, Docrat S, Abdulmalik J, et al. Mental health financing challenges, opportunities and strategies in low- and middle-income countries: findings from the Emerald project. BJPsych Open. 2019;5(5):e\n",
      "29. Mental health atlas Geneva: World Health Organization; 2021 ( https:/ /apps.who.int/iris/rest/bitstreams/1376861/retrieve , accessed 5 May 2022).\n",
      "30. United Nations Department of Social and Economic Affairs. SDG Indicators Database [online database] ( https:/ /unstats.un.org/sdgs/\n",
      "dataportal , accessed 5 May 2022).\n",
      "31. The impact of COVID-19 on mental, neurological and substance use services: Results of a rapid assessment. Geneva: World Health Organization; 2020 ( https:/ /apps.who.int/iris/rest/bitstreams/1310579/retrieve , accessed 5 May 2022).\n",
      "32. Investments on grants for biomedical research by funder, type of grant, health category and recipient. Global Health Observatory [online database]. Geneva: World Health Organization ( https:/ /www.who.int/observatories/global-observatory-on-health-research-\n",
      "and-development/monitoring/investments-on-grants-for-biomedical-research-by-funder-type-of-grant-health-category-and-recipient , accessed 5 May 2022).\n",
      "33. Global strategy on human resources for health: workforce 2030. Geneva: World Health Organization; 2016 ( https:/ /apps.who.int/\n",
      "iris/handle/10665/250368 , accessed 5 May 2022).\n",
      "34. Health workers: a global profile. Geneva: World Health Organization; 2006 ( https:/ /www.who.int/whr/2006/06_chap1_en.pdf?ua=1 , accessed 5 May 2022). 35. WHO National Health Workforce Accounts database [online database]. Geneva: World Health Organization (https:/ /apps.who.int/ nhwaportal/, accessed 5 May 2022).\n",
      "36. The impact of COVID-19 on health and care workers: a closer look at deaths.\n",
      "---------------------\n",
      "Given this information, please answer the question: What was impact of covid-19 on middle eastern countries?\n",
      "\n"
     ]
    }
   ],
   "source": [
    "print(qa_template.format(query_str= question, context_str= getContextDocuments(question)))"
   ]
  },
  {
   "cell_type": "code",
   "execution_count": 95,
   "metadata": {},
   "outputs": [],
   "source": [
    "qengine = index.as_query_engine(llm=llm, text_qa_template=qa_template)"
   ]
  },
  {
   "cell_type": "code",
   "execution_count": 96,
   "metadata": {},
   "outputs": [
    {
     "data": {
      "text/plain": [
       "Response(response=\"The provided text focuses on the impact of COVID-19 on the European and South-East Asia regions. It doesn't contain any information about the Middle East. \\n\", source_nodes=[NodeWithScore(node=TextNode(id_='35ae21be-25bc-4471-b170-6f31070ac537', embedding=None, metadata={'page_label': '77', 'file_name': 'who_stats_2022.pdf', 'file_path': 'd:\\\\VS Code\\\\python\\\\GenAI-Cookbook\\\\RAG_techniques\\\\..\\\\data\\\\who_stats_2022.pdf', 'file_type': 'application/pdf', 'file_size': 7925105, 'creation_date': '2024-09-08', 'last_modified_date': '2024-09-08'}, excluded_embed_metadata_keys=['file_name', 'file_type', 'file_size', 'creation_date', 'last_modified_date', 'last_accessed_date'], excluded_llm_metadata_keys=['file_name', 'file_type', 'file_size', 'creation_date', 'last_modified_date', 'last_accessed_date'], relationships={<NodeRelationship.SOURCE: '1'>: RelatedNodeInfo(node_id='eb94dc14-4746-48ab-9233-abd89dd9f97e', node_type=<ObjectType.DOCUMENT: '4'>, metadata={'page_label': '77', 'file_name': 'who_stats_2022.pdf', 'file_path': 'd:\\\\VS Code\\\\python\\\\GenAI-Cookbook\\\\RAG_techniques\\\\..\\\\data\\\\who_stats_2022.pdf', 'file_type': 'application/pdf', 'file_size': 7925105, 'creation_date': '2024-09-08', 'last_modified_date': '2024-09-08'}, hash='c60cdc54ceb667887f0999eed3ffdd1cf1f3967bc7ab28f72a15d2a49dbc7a6d')}, text='82•European Region\\nDisruptions of essential health services\\n1  Responses were obtained from 23 of 53 WHO European Region Member States.COVID-19 has added pressure to all three pillars of UHC: access to health services, quality of care, and financial protection. In 2020, the results of the first WHO pulse survey revealed that over 40% of essential health services in the WHO European region had been at least partially disrupted (4), with the disruptions occurring across all aspects of health systems. Results from the second WHO pulse survey showed that substantial disruptions persisted in 2021, with around 29% of services at least partially disrupted in the first three months of 2021 (5).1 During the rest of 2021, the extent and magnitude of those disruptions decreased compared to 2020 (6). The main causes of the disruptions have also shifted. On the supply side, shortages of personal protective equipment seemed to become less of a challenge, while the cancellation of elective care and shortages of staff and inpatient beds continued to be problems. On the demand side, the effects of the disruptions were aggravated by people’s reluctance to seek health care. This was attributed partly to governments’ appeals to the public to avoid using health facilities unless absolutely necessary, people’s assumptions that care would not be available, and their concerns about possibly acquiring or transmitting coronavirus infection at health facilities. Travel restrictions and financial barriers contributed to the decline in the use of health care services. Existing inequalities have also shaped the extent to which people have been affected by health service disruptions during COVID-19. Older people, those living in deprived areas, people with disabilities or with chronic conditions, and minority populations (such as refugees and migrants and lesbian, gay, bisexual, transgender/transsexual, intersex and queer/questioning communities) have experienced poorer access to health care compared to the rest of the population.\\nDuring the pandemic, countries in the WHO European Region have purposefully sought to adapt health insurance coverage policies to minimize financial barriers blocking access to COVID-19 treatment. Several Member States have exempted COVID19-related services from co-payments and a few have extended these exemptions to other health services, such as teleconsultations. In addition, some Member States have extended their health insurance coverage policies to irregular migrants and other people who are usually excluded from coverage. At the same time, the pandemic may have increased unmet health care needs and worsened financial hardship in several ways. For instance, the disruption of health services may have led to increased out-of-pocket health spending among people seeking quicker access to treatment and care. The economic shock of the pandemic has also reduced household incomes, especially for poorer households. Those economic shocks are also reducing government revenue, while increasing the need for publicly financed health care (10).\\nFallout from the COVID-19 pandemic has substantially hampered supply and demand for essential health services. The disruptions have aggravated existing inequalities in vulnerable and minority groups’ access to health services. While several countries in the WHO European Region acted rapidly to reduce financial barriers to COVID-19 treatment, the increasing demand for quicker access to care may have led to increased out-of-pocket payments for health and thus may have aggravated financial hardship.', mimetype='text/plain', start_char_idx=0, end_char_idx=3589, text_template='{metadata_str}\\n\\n{content}', metadata_template='{key}: {value}', metadata_seperator='\\n'), score=0.7730778862568785), NodeWithScore(node=TextNode(id_='93c2b390-c459-408c-b765-abd6ed6df413', embedding=None, metadata={'page_label': '79', 'file_name': 'who_stats_2022.pdf', 'file_path': 'd:\\\\VS Code\\\\python\\\\GenAI-Cookbook\\\\RAG_techniques\\\\..\\\\data\\\\who_stats_2022.pdf', 'file_type': 'application/pdf', 'file_size': 7925105, 'creation_date': '2024-09-08', 'last_modified_date': '2024-09-08'}, excluded_embed_metadata_keys=['file_name', 'file_type', 'file_size', 'creation_date', 'last_modified_date', 'last_accessed_date'], excluded_llm_metadata_keys=['file_name', 'file_type', 'file_size', 'creation_date', 'last_modified_date', 'last_accessed_date'], relationships={<NodeRelationship.SOURCE: '1'>: RelatedNodeInfo(node_id='f1f34deb-d5da-4803-a961-4d36e0437938', node_type=<ObjectType.DOCUMENT: '4'>, metadata={'page_label': '79', 'file_name': 'who_stats_2022.pdf', 'file_path': 'd:\\\\VS Code\\\\python\\\\GenAI-Cookbook\\\\RAG_techniques\\\\..\\\\data\\\\who_stats_2022.pdf', 'file_type': 'application/pdf', 'file_size': 7925105, 'creation_date': '2024-09-08', 'last_modified_date': '2024-09-08'}, hash='f277e72e187097044d2cc7c56492f2773962dc1054de0fe6121c72ef98137c0c'), <NodeRelationship.NEXT: '3'>: RelatedNodeInfo(node_id='9f72d8b8-8177-4d3b-80a4-3f35fbe0e521', node_type=<ObjectType.TEXT: '1'>, metadata={}, hash='87380de582f6d2c7ddbe01c6dcb478736f1b0651c56ced4023d42764bb8456e0')}, text='84•South-East Asia Region\\nData-informed decision-making is vital for pandemic control and essential health services\\nAs the COVID-19 pandemic took hold in 2020, it was quickly apparent that essential services for sexual, reproductive, maternal, newborn, child and adolescent health were being disrupted in the WHO South-\\nEast Asia Region.\\nSeveral mapping exercises were conducted to study the extent of disruption and modelling exercises were performed to assess the likely effects. Modelling was done in collaboration with UNICEF’s Regional Office and the SickKids’ Center for Global Child Health in Bangladesh, India, Nepal and Sri Lanka, while studies on the impact on sexual, reproductive, maternal, newborn, child and adolescent health services were carried out through national institutions. These exercises provided some information for decision-making early in the pandemic, but it also became clear that regular monitoring information was needed to respond effectively and to maintain essential health services (11). In five countries (Bangladesh, India, Myanmar, Nepal and Timor-Leste), a two-phased, country-focused mitigation project was initiated jointly by WHO Headquarters and the Regional Office. The aim was to support country efforts to prevent additional increases in malnutrition, mental and physical ill health, and mortality among pregnant women, mothers, children, adolescents and older people by maintaining service delivery at levels as close as possible to those prior to the pandemic. The main data sources for the project were routine sexual, reproductive, maternal, newborn, child and adolescent health management information, and maternal death surveillance and response surveillance data. Based on the global list of indicators for monitoring the effects of COVID-19 on essential health services (12), the WHO Regional Office, in consultation with the mitigation project countries, selected 34 indicators for monitoring the delivery of sexual, reproductive, maternal, newborn, child and adolescent health services using data from health management information systems which countries customized and adapted. The most commonly reported indicators included facility births, antenatal care provision, DPT3 vaccine, consultations for acute respiratory infections and diarrhoea in children, caesarean sections and contraception distribution. The least-reported indicators were related to newborn health (postnatal care and early initiation of breastfeeding), child malnutrition, post-abortion complications, and adolescent sexual and reproductive health. Data were used for policy dialogues and to select mitigation options. Figs. A1.5-7 illustrate how routine health management information can help in analysing and prioritizing actions for overcoming disruptions in health services. The figures show the declining use of services during lockdown periods and gradual improvement due to several mitigation strategies employed by countries to maintain essential services. These responses included tele-counselling, the use of community-based health care workers and continued publicity about the safety of attending health facilities. The use of routine, timely, high-quality and reliable health management information data must be further developed and improved. For example, common issues encountered during the five-country project included a lack of subnational data for vulnerable populations, a lack of private sector reporting, and incomplete data sharing. Countries need to focus more on improving the quality and completeness of health management indicator data as part of their regular monitoring and use of data for decision-making. Continuous monitoring and appropriate actions are needed to track and assess progress towards achieving the SDGs, including during crises.\\nFig. A1.5.  Number of women who received injectables in Bangladesh and percentage change, 2019–2020\\n-3.18 -1.77-7.85\\n-32,98-25.43-11.5-19.03 -15.24-7.19-12.98 -10.57 -7.36\\n-100-80-60-40-20020406080100\\n0200 000400 000600 000800 0001 000 0001 200 000\\nJan Feb Mar Apr May Jun Jul Aug Sep Oct Nov DecNumber of women (percentage)\\n2019 2020 % Change\\nSource:  Analysis from the Management Information System of the Directorate General of Family Planning, Bangladesh, 2019–2020.\\nFig. A1.6.', mimetype='text/plain', start_char_idx=0, end_char_idx=4288, text_template='{metadata_str}\\n\\n{content}', metadata_template='{key}: {value}', metadata_seperator='\\n'), score=0.7543605650470909)], metadata={'35ae21be-25bc-4471-b170-6f31070ac537': {'page_label': '77', 'file_name': 'who_stats_2022.pdf', 'file_path': 'd:\\\\VS Code\\\\python\\\\GenAI-Cookbook\\\\RAG_techniques\\\\..\\\\data\\\\who_stats_2022.pdf', 'file_type': 'application/pdf', 'file_size': 7925105, 'creation_date': '2024-09-08', 'last_modified_date': '2024-09-08'}, '93c2b390-c459-408c-b765-abd6ed6df413': {'page_label': '79', 'file_name': 'who_stats_2022.pdf', 'file_path': 'd:\\\\VS Code\\\\python\\\\GenAI-Cookbook\\\\RAG_techniques\\\\..\\\\data\\\\who_stats_2022.pdf', 'file_type': 'application/pdf', 'file_size': 7925105, 'creation_date': '2024-09-08', 'last_modified_date': '2024-09-08'}})"
      ]
     },
     "execution_count": 96,
     "metadata": {},
     "output_type": "execute_result"
    }
   ],
   "source": [
    "qengine.query(question)"
   ]
  },
  {
   "cell_type": "code",
   "execution_count": 119,
   "metadata": {},
   "outputs": [],
   "source": [
    "final_prompt = qa_template.format(query_str= question, context_str= getContextDocuments(question))"
   ]
  },
  {
   "cell_type": "code",
   "execution_count": 120,
   "metadata": {},
   "outputs": [
    {
     "data": {
      "text/plain": [
       "22017"
      ]
     },
     "execution_count": 120,
     "metadata": {},
     "output_type": "execute_result"
    }
   ],
   "source": [
    "len(final_prompt)"
   ]
  },
  {
   "cell_type": "markdown",
   "metadata": {},
   "source": [
    "### Update prompt template as this new template"
   ]
  },
  {
   "cell_type": "code",
   "execution_count": 125,
   "metadata": {},
   "outputs": [],
   "source": [
    "query_engine.update_prompts(\n",
    "    {\"response_synthesizer:text_qa_template\": qa_template}\n",
    ")"
   ]
  },
  {
   "cell_type": "code",
   "execution_count": 128,
   "metadata": {},
   "outputs": [],
   "source": [
    "from IPython.display import Markdown, display\n",
    "\n",
    "# define prompt viewing function\n",
    "def display_prompt_dict(prompts_dict):\n",
    "    for k, p in prompts_dict.items():\n",
    "        text_md = f\"**Prompt Key**: {k}<br>\" f\"**Text:** <br>\"\n",
    "        display(Markdown(text_md))\n",
    "        print(p.get_template())\n",
    "        display(Markdown(\"<br><br>\"))"
   ]
  },
  {
   "cell_type": "markdown",
   "metadata": {},
   "source": [
    "### Display the prompt template"
   ]
  },
  {
   "cell_type": "code",
   "execution_count": 129,
   "metadata": {},
   "outputs": [
    {
     "data": {
      "text/markdown": [
       "**Prompt Key**: response_synthesizer:text_qa_template<br>**Text:** <br>"
      ],
      "text/plain": [
       "<IPython.core.display.Markdown object>"
      ]
     },
     "metadata": {},
     "output_type": "display_data"
    },
    {
     "name": "stdout",
     "output_type": "stream",
     "text": [
      "We have provided context information below. \n",
      "---------------------\n",
      "{context_str}\n",
      "---------------------\n",
      "Given this information, please answer the question: {query_str}\n",
      "\n"
     ]
    },
    {
     "data": {
      "text/markdown": [
       "<br><br>"
      ],
      "text/plain": [
       "<IPython.core.display.Markdown object>"
      ]
     },
     "metadata": {},
     "output_type": "display_data"
    },
    {
     "data": {
      "text/markdown": [
       "**Prompt Key**: response_synthesizer:refine_template<br>**Text:** <br>"
      ],
      "text/plain": [
       "<IPython.core.display.Markdown object>"
      ]
     },
     "metadata": {},
     "output_type": "display_data"
    },
    {
     "name": "stdout",
     "output_type": "stream",
     "text": [
      "The original query is as follows: {query_str}\n",
      "We have provided an existing answer: {existing_answer}\n",
      "We have the opportunity to refine the existing answer (only if needed) with some more context below.\n",
      "------------\n",
      "{context_msg}\n",
      "------------\n",
      "Given the new context, refine the original answer to better answer the query. If the context isn't useful, return the original answer.\n",
      "Refined Answer: \n"
     ]
    },
    {
     "data": {
      "text/markdown": [
       "<br><br>"
      ],
      "text/plain": [
       "<IPython.core.display.Markdown object>"
      ]
     },
     "metadata": {},
     "output_type": "display_data"
    }
   ],
   "source": [
    "display_prompt_dict(query_engine.get_prompts())"
   ]
  },
  {
   "cell_type": "markdown",
   "metadata": {},
   "source": [
    "### Input question to query which will find similar k docs and fill as context"
   ]
  },
  {
   "cell_type": "code",
   "execution_count": 134,
   "metadata": {},
   "outputs": [],
   "source": [
    "llm_response = query_engine.query(question)"
   ]
  },
  {
   "cell_type": "code",
   "execution_count": 135,
   "metadata": {},
   "outputs": [
    {
     "name": "stdout",
     "output_type": "stream",
     "text": [
      "The COVID-19 pandemic highlighted the need for more frequent mortality data in the Eastern Mediterranean Region.  Countries in the region worked with the WHO to improve their mortality registration systems, and some were able to establish rapid mortality surveillance. \n",
      "\n"
     ]
    }
   ],
   "source": [
    "print(llm_response.response)"
   ]
  },
  {
   "cell_type": "code",
   "execution_count": null,
   "metadata": {},
   "outputs": [],
   "source": []
  }
 ],
 "metadata": {
  "kernelspec": {
   "display_name": "venv",
   "language": "python",
   "name": "python3"
  },
  "language_info": {
   "codemirror_mode": {
    "name": "ipython",
    "version": 3
   },
   "file_extension": ".py",
   "mimetype": "text/x-python",
   "name": "python",
   "nbconvert_exporter": "python",
   "pygments_lexer": "ipython3",
   "version": "3.12.5"
  }
 },
 "nbformat": 4,
 "nbformat_minor": 2
}
