{
 "cells": [
  {
   "cell_type": "markdown",
   "metadata": {},
   "source": [
    "### Perform RAG on a CSV dataset using FAISS as vector database"
   ]
  },
  {
   "cell_type": "markdown",
   "metadata": {},
   "source": [
    "### FAISS\n",
    "\n",
    "Also known as ** Facebook AI Similarity Search** is an open-source library built for similarity search and clustering of dense vectors.\n",
    "\n",
    "Read more about it here - https://engineering.fb.com/2017/03/29/data-infrastructure/faiss-a-library-for-efficient-similarity-search/\n",
    "\n",
    "We will use FAISS as vector database to store and do similarity search. We will use package `faiss-cpu` so processing is done via CPU"
   ]
  },
  {
   "cell_type": "code",
   "execution_count": 2,
   "metadata": {},
   "outputs": [
    {
     "name": "stdout",
     "output_type": "stream",
     "text": [
      "Note: you may need to restart the kernel to use updated packages.\n"
     ]
    }
   ],
   "source": [
    "%pip install -q dotenv pandas langchain langchain-community faiss-cpu langchain-text-splitters"
   ]
  },
  {
   "cell_type": "markdown",
   "metadata": {},
   "source": [
    "Note - you may get local error due to subprocess running while installing dotenv(if it has been installed or is being used in same environment) so remove it from above command to see it removes that error"
   ]
  },
  {
   "cell_type": "markdown",
   "metadata": {},
   "source": [
    "### Create documents using CSVLoader where each row is considered a separate document"
   ]
  },
  {
   "cell_type": "code",
   "execution_count": 5,
   "metadata": {},
   "outputs": [],
   "source": [
    "from langchain_community.document_loaders.csv_loader import CSVLoader\n",
    "\n",
    "csv_loader = CSVLoader(file_path=\"../data/employee_data.csv\")\n",
    "csv_docs = csv_loader.load()"
   ]
  },
  {
   "cell_type": "code",
   "execution_count": 6,
   "metadata": {},
   "outputs": [
    {
     "data": {
      "text/plain": [
       "3000"
      ]
     },
     "execution_count": 6,
     "metadata": {},
     "output_type": "execute_result"
    }
   ],
   "source": [
    "len(csv_docs) # each row is again a document"
   ]
  },
  {
   "cell_type": "code",
   "execution_count": 7,
   "metadata": {},
   "outputs": [
    {
     "data": {
      "text/plain": [
       "Document(metadata={'source': '../data/employee_data.csv', 'row': 0}, page_content='ï»¿EmpID: 3427\\nFirstName: Uriah\\nLastName: Bridges\\nStartDate: 20-Sep-19\\nExitDate: \\nTitle: Production Technician I\\nSupervisor: Peter Oneill\\nADEmail: uriah.bridges@bilearner.com\\nBusinessUnit: CCDR\\nEmployeeStatus: Active\\nEmployeeType: Contract\\nPayZone: Zone C\\nEmployeeClassificationType: Temporary\\nTerminationType: Unk\\nTerminationDescription: \\nDepartmentType: Production\\nDivision: Finance & Accounting\\nDOB: 07-10-1969\\nState: MA\\nJobFunctionDescription: Accounting\\nGenderCode: Female\\nLocationCode: 34904\\nRaceDesc: White\\nMaritalDesc: Widowed\\nPerformance Score: Fully Meets\\nCurrent Employee Rating: 4')"
      ]
     },
     "execution_count": 7,
     "metadata": {},
     "output_type": "execute_result"
    }
   ],
   "source": [
    "csv_docs[0]"
   ]
  },
  {
   "cell_type": "markdown",
   "metadata": {},
   "source": [
    "Here each object is of type `Document` but it has different **metadata** where dataframe loader had remaining fields, this has source file name and row number"
   ]
  },
  {
   "cell_type": "code",
   "execution_count": 7,
   "metadata": {},
   "outputs": [
    {
     "data": {
      "text/plain": [
       "{'id': None,\n",
       " 'metadata': {'source': '../data/employee_data.csv', 'row': 0},\n",
       " 'page_content': 'ï»¿EmpID: 3427\\nFirstName: Uriah\\nLastName: Bridges\\nStartDate: 20-Sep-19\\nExitDate: \\nTitle: Production Technician I\\nSupervisor: Peter Oneill\\nADEmail: uriah.bridges@bilearner.com\\nBusinessUnit: CCDR\\nEmployeeStatus: Active\\nEmployeeType: Contract\\nPayZone: Zone C\\nEmployeeClassificationType: Temporary\\nTerminationType: Unk\\nTerminationDescription: \\nDepartmentType: Production\\nDivision: Finance & Accounting\\nDOB: 07-10-1969\\nState: MA\\nJobFunctionDescription: Accounting\\nGenderCode: Female\\nLocationCode: 34904\\nRaceDesc: White\\nMaritalDesc: Widowed\\nPerformance Score: Fully Meets\\nCurrent Employee Rating: 4',\n",
       " 'type': 'Document'}"
      ]
     },
     "execution_count": 7,
     "metadata": {},
     "output_type": "execute_result"
    }
   ],
   "source": [
    "vars(csv_docs[0])"
   ]
  },
  {
   "cell_type": "markdown",
   "metadata": {},
   "source": [
    "Note - For parsing CSVs for data, you can use both DataframeLoader and CSVLoader but you must know that in dataframeloader **only 1 column is passed as `page_content` and rest is considered as metadata.\n",
    "\n",
    "This metadata field is not considered while doing similarity search but rather comes useful in filtering data before/after similarity search"
   ]
  },
  {
   "cell_type": "markdown",
   "metadata": {},
   "source": [
    "###  Initialise hugging face client for embeddings and LLM API calls\n",
    "\n",
    "- Create a file called `.env`\n",
    "- Login to hugging face hub and go to your profile => Settings => Access Tokens\n",
    "- Generate a new token and save it in the `.env` file as `HUGGINGFACEHUB_API_TOKEN=hf_token`"
   ]
  },
  {
   "cell_type": "code",
   "execution_count": 9,
   "metadata": {},
   "outputs": [],
   "source": [
    "import os\n",
    "from dotenv import load_dotenv\n",
    "\n",
    "load_dotenv()\n",
    "\n",
    "hugging_face_api_key = os.environ[\"HUGGINGFACEHUB_API_TOKEN\"]"
   ]
  },
  {
   "cell_type": "code",
   "execution_count": 10,
   "metadata": {},
   "outputs": [],
   "source": [
    "# print to verify if key exists\n",
    "# print(hugging_face_api_key)"
   ]
  },
  {
   "cell_type": "markdown",
   "metadata": {},
   "source": [
    "#### Initialize Hugging Face Inference Endpoint client to use Mistral 7b Instruct v0.2"
   ]
  },
  {
   "cell_type": "code",
   "execution_count": 11,
   "metadata": {},
   "outputs": [
    {
     "name": "stderr",
     "output_type": "stream",
     "text": [
      "C:\\Users\\VARUN ARORA\\AppData\\Local\\Temp\\ipykernel_8492\\1573641218.py:5: LangChainDeprecationWarning: The class `HuggingFaceEndpoint` was deprecated in LangChain 0.0.37 and will be removed in 1.0. An updated version of the class exists in the langchain-huggingface package and should be used instead. To use it run `pip install -U langchain-huggingface` and import as `from langchain_huggingface import HuggingFaceEndpoint`.\n",
      "  llm = HuggingFaceEndpoint(\n",
      "d:\\VS Code\\python\\GenAI-Cookbook\\venv\\Lib\\site-packages\\tqdm\\auto.py:21: TqdmWarning: IProgress not found. Please update jupyter and ipywidgets. See https://ipywidgets.readthedocs.io/en/stable/user_install.html\n",
      "  from .autonotebook import tqdm as notebook_tqdm\n"
     ]
    },
    {
     "name": "stdout",
     "output_type": "stream",
     "text": [
      "The token has not been saved to the git credentials helper. Pass `add_to_git_credential=True` in this function directly or `--add-to-git-credential` if using via `huggingface-cli` if you want to set the git credential as well.\n",
      "Token is valid (permission: fineGrained).\n",
      "Your token has been saved to C:\\Users\\VARUN ARORA\\.cache\\huggingface\\token\n",
      "Login successful\n"
     ]
    }
   ],
   "source": [
    "from langchain_community.llms import HuggingFaceEndpoint\n",
    "repo_id = \"mistralai/Mistral-7B-Instruct-v0.2\" # last result of this\n",
    "\n",
    "\n",
    "llm = HuggingFaceEndpoint(\n",
    "    repo_id=repo_id, temperature=0.7\n",
    ")"
   ]
  },
  {
   "cell_type": "markdown",
   "metadata": {},
   "source": [
    "#### Create vector database FAISS"
   ]
  },
  {
   "cell_type": "code",
   "execution_count": 12,
   "metadata": {},
   "outputs": [
    {
     "name": "stderr",
     "output_type": "stream",
     "text": [
      "C:\\Users\\VARUN ARORA\\AppData\\Local\\Temp\\ipykernel_8492\\1287374911.py:6: LangChainDeprecationWarning: The class `HuggingFaceEmbeddings` was deprecated in LangChain 0.2.2 and will be removed in 1.0. An updated version of the class exists in the langchain-huggingface package and should be used instead. To use it run `pip install -U langchain-huggingface` and import as `from langchain_huggingface import HuggingFaceEmbeddings`.\n",
      "  embedding_function = SentenceTransformerEmbeddings(model_name=\"all-MiniLM-L6-v2\")\n",
      "d:\\VS Code\\python\\GenAI-Cookbook\\venv\\Lib\\site-packages\\transformers\\tokenization_utils_base.py:1601: FutureWarning: `clean_up_tokenization_spaces` was not set. It will be set to `True` by default. This behavior will be depracted in transformers v4.45, and will be then set to `False` by default. For more details check this issue: https://github.com/huggingface/transformers/issues/31884\n",
      "  warnings.warn(\n"
     ]
    }
   ],
   "source": [
    "from langchain_community.embeddings.sentence_transformer import (\n",
    "    SentenceTransformerEmbeddings,\n",
    ")\n",
    "\n",
    "# use the open-source embedding function to convert text to embeddings, can choose another function as per leaderboard - https://huggingface.co/spaces/mteb/leaderboard\n",
    "embedding_function = SentenceTransformerEmbeddings(model_name=\"all-MiniLM-L6-v2\")"
   ]
  },
  {
   "cell_type": "markdown",
   "metadata": {},
   "source": [
    "Store the documents using embedding function for `csv_docs`"
   ]
  },
  {
   "cell_type": "code",
   "execution_count": 14,
   "metadata": {},
   "outputs": [],
   "source": [
    "import faiss\n",
    "from langchain_community.vectorstores import FAISS\n",
    "\n",
    "csv_faiss_index = \"faiss_rag_csvloader\"\n",
    "\n",
    "faiss_index_client = FAISS.from_documents(\n",
    "    documents=csv_docs,\n",
    "    embedding=embedding_function, \n",
    "    \n",
    ")"
   ]
  },
  {
   "cell_type": "markdown",
   "metadata": {},
   "source": [
    "Now, this client has vector embeddings for our data. We should persist this in a folder to avoid creating vector database everytime.\n",
    "\n",
    "Provide the folder to save index and index name to uniquely identify indices when multiple indices exist in the folder"
   ]
  },
  {
   "cell_type": "code",
   "execution_count": 15,
   "metadata": {},
   "outputs": [],
   "source": [
    "faiss_index_client.save_local(folder_path=\"faiss_vector_stores\", index_name=csv_faiss_index)"
   ]
  },
  {
   "cell_type": "markdown",
   "metadata": {},
   "source": [
    "#### Loading vector store from local\n",
    "\n",
    "Provide the embedding function as parameter and `allow_deserialization` flag to True. The reason we need to set this flag to true is that **it loads a pkl file which can be modified to deliver malicious code. Adding this flag to True is so you confirm you trust the source**"
   ]
  },
  {
   "cell_type": "code",
   "execution_count": 18,
   "metadata": {},
   "outputs": [],
   "source": [
    "faiss_client = FAISS.load_local(folder_path=\"faiss_vector_stores\", index_name=csv_faiss_index, embeddings=embedding_function, allow_dangerous_deserialization=True)"
   ]
  },
  {
   "cell_type": "markdown",
   "metadata": {},
   "source": [
    "#### Similarity search to get k(here 7) semantically closest documents to input query"
   ]
  },
  {
   "cell_type": "code",
   "execution_count": 19,
   "metadata": {},
   "outputs": [
    {
     "data": {
      "text/plain": [
       "[Document(metadata={'source': '../data/employee_data.csv', 'row': 1531}, page_content='ï»¿EmpID: 1958\\nFirstName: Lin\\nLastName: Chan\\nStartDate: 04-Jul-19\\nExitDate: \\nTitle: Production Technician I\\nSupervisor: Neil Aguilar\\nADEmail: lin.chan@bilearner.com\\nBusinessUnit: PYZ\\nEmployeeStatus: Active\\nEmployeeType: Contract\\nPayZone: Zone B\\nEmployeeClassificationType: Full-Time\\nTerminationType: Unk\\nTerminationDescription: \\nDepartmentType: Production\\nDivision: Sales & Marketing\\nDOB: 18-10-1990\\nState: MA\\nJobFunctionDescription: Assistant\\nGenderCode: Female\\nLocationCode: 2170\\nRaceDesc: Other\\nMaritalDesc: Married\\nPerformance Score: Fully Meets\\nCurrent Employee Rating: 3'),\n",
       " Document(metadata={'source': '../data/employee_data.csv', 'row': 1594}, page_content='ï»¿EmpID: 2021\\nFirstName: Marlee\\nLastName: Woods\\nStartDate: 29-Nov-22\\nExitDate: \\nTitle: Production Technician II\\nSupervisor: Christine Salas\\nADEmail: marlee.woods@bilearner.com\\nBusinessUnit: WBL\\nEmployeeStatus: Active\\nEmployeeType: Part-Time\\nPayZone: Zone A\\nEmployeeClassificationType: Temporary\\nTerminationType: Unk\\nTerminationDescription: \\nDepartmentType: Production\\nDivision: Field Operations\\nDOB: 11-12-1955\\nState: MA\\nJobFunctionDescription: Foreman\\nGenderCode: Female\\nLocationCode: 54120\\nRaceDesc: Asian\\nMaritalDesc: Widowed\\nPerformance Score: Fully Meets\\nCurrent Employee Rating: 3'),\n",
       " Document(metadata={'source': '../data/employee_data.csv', 'row': 2285}, page_content='ï»¿EmpID: 2712\\nFirstName: Helen\\nLastName: Humphrey\\nStartDate: 19-Aug-18\\nExitDate: \\nTitle: Area Sales Manager\\nSupervisor: Richard Henry\\nADEmail: helen.humphrey@bilearner.com\\nBusinessUnit: PYZ\\nEmployeeStatus: Active\\nEmployeeType: Full-Time\\nPayZone: Zone A\\nEmployeeClassificationType: Full-Time\\nTerminationType: Unk\\nTerminationDescription: \\nDepartmentType: Sales\\nDivision: General - Con\\nDOB: 08-07-1992\\nState: NY\\nJobFunctionDescription: Foreman\\nGenderCode: Male\\nLocationCode: 42080\\nRaceDesc: Other\\nMaritalDesc: Married\\nPerformance Score: Fully Meets\\nCurrent Employee Rating: 1'),\n",
       " Document(metadata={'source': '../data/employee_data.csv', 'row': 1848}, page_content='ï»¿EmpID: 2275\\nFirstName: Michael\\nLastName: Albert\\nStartDate: 25-Jan-22\\nExitDate: \\nTitle: Production Manager\\nSupervisor: Daniel Garcia\\nADEmail: michael.albert@bilearner.com\\nBusinessUnit: EW\\nEmployeeStatus: Active\\nEmployeeType: Part-Time\\nPayZone: Zone B\\nEmployeeClassificationType: Full-Time\\nTerminationType: Unk\\nTerminationDescription: \\nDepartmentType: Production\\nDivision: Yard (Material Handling)\\nDOB: 09-12-1950\\nState: MA\\nJobFunctionDescription: Runner\\nGenderCode: Male\\nLocationCode: 2169\\nRaceDesc: Asian\\nMaritalDesc: Married\\nPerformance Score: Fully Meets\\nCurrent Employee Rating: 2'),\n",
       " Document(metadata={'source': '../data/employee_data.csv', 'row': 2887}, page_content='ï»¿EmpID: 3314\\nFirstName: German\\nLastName: Hobbs\\nStartDate: 01-Jan-19\\nExitDate: \\nTitle: Production Technician I\\nSupervisor: Shelly Turner\\nADEmail: german.hobbs@bilearner.com\\nBusinessUnit: PYZ\\nEmployeeStatus: Active\\nEmployeeType: Part-Time\\nPayZone: Zone A\\nEmployeeClassificationType: Temporary\\nTerminationType: Unk\\nTerminationDescription: \\nDepartmentType: Production\\nDivision: General - Eng\\nDOB: 24-09-1955\\nState: MA\\nJobFunctionDescription: Project Manager\\nGenderCode: Male\\nLocationCode: 19525\\nRaceDesc: Other\\nMaritalDesc: Widowed\\nPerformance Score: Fully Meets\\nCurrent Employee Rating: 4'),\n",
       " Document(metadata={'source': '../data/employee_data.csv', 'row': 2933}, page_content='ï»¿EmpID: 3360\\nFirstName: Fatima\\nLastName: Kemp\\nStartDate: 24-Mar-21\\nExitDate: \\nTitle: Production Technician I\\nSupervisor: Patrick Wood\\nADEmail: fatima.kemp@bilearner.com\\nBusinessUnit: BPC\\nEmployeeStatus: Active\\nEmployeeType: Part-Time\\nPayZone: Zone A\\nEmployeeClassificationType: Part-Time\\nTerminationType: Unk\\nTerminationDescription: \\nDepartmentType: Production\\nDivision: General - Con\\nDOB: 20-05-1974\\nState: MA\\nJobFunctionDescription: Safety\\nGenderCode: Female\\nLocationCode: 4369\\nRaceDesc: Asian\\nMaritalDesc: Married\\nPerformance Score: Exceeds\\nCurrent Employee Rating: 2'),\n",
       " Document(metadata={'source': '../data/employee_data.csv', 'row': 2746}, page_content='ï»¿EmpID: 3173\\nFirstName: Tucker\\nLastName: Sweeney\\nStartDate: 21-Dec-22\\nExitDate: 30-May-23\\nTitle: Production Technician I\\nSupervisor: Gloria Vaughn\\nADEmail: tucker.sweeney@bilearner.com\\nBusinessUnit: PL\\nEmployeeStatus: Active\\nEmployeeType: Contract\\nPayZone: Zone A\\nEmployeeClassificationType: Part-Time\\nTerminationType: Resignation\\nTerminationDescription: Place hear beat.\\nDepartmentType: Production\\nDivision: Billable Consultants\\nDOB: 14-03-1957\\nState: MA\\nJobFunctionDescription: Engineer\\nGenderCode: Female\\nLocationCode: 24597\\nRaceDesc: Asian\\nMaritalDesc: Married\\nPerformance Score: Fully Meets\\nCurrent Employee Rating: 1')]"
      ]
     },
     "execution_count": 19,
     "metadata": {},
     "output_type": "execute_result"
    }
   ],
   "source": [
    "faiss_client.similarity_search(query=\"Which married employees have best performance?\", k=7)"
   ]
  },
  {
   "cell_type": "markdown",
   "metadata": {},
   "source": [
    "#### Build simple RAG chain"
   ]
  },
  {
   "cell_type": "code",
   "execution_count": 20,
   "metadata": {},
   "outputs": [
    {
     "name": "stderr",
     "output_type": "stream",
     "text": [
      "d:\\VS Code\\python\\GenAI-Cookbook\\venv\\Lib\\site-packages\\langsmith\\client.py:312: LangSmithMissingAPIKeyWarning: API key must be provided when using hosted LangSmith API\n",
      "  warnings.warn(\n",
      "d:\\VS Code\\python\\GenAI-Cookbook\\venv\\Lib\\site-packages\\langsmith\\client.py:5499: LangChainBetaWarning: The function `loads` is in beta. It is actively being worked on, so the API may change.\n",
      "  prompt = loads(json.dumps(prompt_object.manifest))\n"
     ]
    }
   ],
   "source": [
    "# Retrieve and generate using the relevant snippets of the blog.\n",
    "from langchain import hub\n",
    "\n",
    "# set k as 20 to retrieve 20 most similar docs\n",
    "retriever = faiss_client.as_retriever(search_kwargs={'k': 10})\n",
    "prompt = hub.pull(\"rlm/rag-prompt\") # pull common RAG prompt here - https://smith.langchain.com/hub/rlm/rag-prompt"
   ]
  },
  {
   "cell_type": "code",
   "execution_count": 21,
   "metadata": {},
   "outputs": [],
   "source": [
    "# this function is passed in to format each document retrieved from vector store to get the page content only as context to LLM\n",
    "\n",
    "def format_docs(docs):\n",
    "    return \"\\n\\n\".join(doc.page_content for doc in docs)"
   ]
  },
  {
   "cell_type": "code",
   "execution_count": 22,
   "metadata": {},
   "outputs": [],
   "source": [
    "from langchain_core.runnables import RunnablePassthrough\n",
    "from langchain_core.output_parsers import StrOutputParser\n",
    "\n",
    "csvloader_rag_chain = (\n",
    "    {\"context\": retriever | format_docs, \"question\": RunnablePassthrough()}\n",
    "    | prompt\n",
    "    | llm\n",
    "    | StrOutputParser()\n",
    ")"
   ]
  },
  {
   "cell_type": "code",
   "execution_count": 23,
   "metadata": {},
   "outputs": [
    {
     "data": {
      "text/plain": [
       "[Document(metadata={'source': '../data/employee_data.csv', 'row': 1531}, page_content='ï»¿EmpID: 1958\\nFirstName: Lin\\nLastName: Chan\\nStartDate: 04-Jul-19\\nExitDate: \\nTitle: Production Technician I\\nSupervisor: Neil Aguilar\\nADEmail: lin.chan@bilearner.com\\nBusinessUnit: PYZ\\nEmployeeStatus: Active\\nEmployeeType: Contract\\nPayZone: Zone B\\nEmployeeClassificationType: Full-Time\\nTerminationType: Unk\\nTerminationDescription: \\nDepartmentType: Production\\nDivision: Sales & Marketing\\nDOB: 18-10-1990\\nState: MA\\nJobFunctionDescription: Assistant\\nGenderCode: Female\\nLocationCode: 2170\\nRaceDesc: Other\\nMaritalDesc: Married\\nPerformance Score: Fully Meets\\nCurrent Employee Rating: 3'),\n",
       " Document(metadata={'source': '../data/employee_data.csv', 'row': 1594}, page_content='ï»¿EmpID: 2021\\nFirstName: Marlee\\nLastName: Woods\\nStartDate: 29-Nov-22\\nExitDate: \\nTitle: Production Technician II\\nSupervisor: Christine Salas\\nADEmail: marlee.woods@bilearner.com\\nBusinessUnit: WBL\\nEmployeeStatus: Active\\nEmployeeType: Part-Time\\nPayZone: Zone A\\nEmployeeClassificationType: Temporary\\nTerminationType: Unk\\nTerminationDescription: \\nDepartmentType: Production\\nDivision: Field Operations\\nDOB: 11-12-1955\\nState: MA\\nJobFunctionDescription: Foreman\\nGenderCode: Female\\nLocationCode: 54120\\nRaceDesc: Asian\\nMaritalDesc: Widowed\\nPerformance Score: Fully Meets\\nCurrent Employee Rating: 3'),\n",
       " Document(metadata={'source': '../data/employee_data.csv', 'row': 2285}, page_content='ï»¿EmpID: 2712\\nFirstName: Helen\\nLastName: Humphrey\\nStartDate: 19-Aug-18\\nExitDate: \\nTitle: Area Sales Manager\\nSupervisor: Richard Henry\\nADEmail: helen.humphrey@bilearner.com\\nBusinessUnit: PYZ\\nEmployeeStatus: Active\\nEmployeeType: Full-Time\\nPayZone: Zone A\\nEmployeeClassificationType: Full-Time\\nTerminationType: Unk\\nTerminationDescription: \\nDepartmentType: Sales\\nDivision: General - Con\\nDOB: 08-07-1992\\nState: NY\\nJobFunctionDescription: Foreman\\nGenderCode: Male\\nLocationCode: 42080\\nRaceDesc: Other\\nMaritalDesc: Married\\nPerformance Score: Fully Meets\\nCurrent Employee Rating: 1'),\n",
       " Document(metadata={'source': '../data/employee_data.csv', 'row': 1848}, page_content='ï»¿EmpID: 2275\\nFirstName: Michael\\nLastName: Albert\\nStartDate: 25-Jan-22\\nExitDate: \\nTitle: Production Manager\\nSupervisor: Daniel Garcia\\nADEmail: michael.albert@bilearner.com\\nBusinessUnit: EW\\nEmployeeStatus: Active\\nEmployeeType: Part-Time\\nPayZone: Zone B\\nEmployeeClassificationType: Full-Time\\nTerminationType: Unk\\nTerminationDescription: \\nDepartmentType: Production\\nDivision: Yard (Material Handling)\\nDOB: 09-12-1950\\nState: MA\\nJobFunctionDescription: Runner\\nGenderCode: Male\\nLocationCode: 2169\\nRaceDesc: Asian\\nMaritalDesc: Married\\nPerformance Score: Fully Meets\\nCurrent Employee Rating: 2'),\n",
       " Document(metadata={'source': '../data/employee_data.csv', 'row': 2887}, page_content='ï»¿EmpID: 3314\\nFirstName: German\\nLastName: Hobbs\\nStartDate: 01-Jan-19\\nExitDate: \\nTitle: Production Technician I\\nSupervisor: Shelly Turner\\nADEmail: german.hobbs@bilearner.com\\nBusinessUnit: PYZ\\nEmployeeStatus: Active\\nEmployeeType: Part-Time\\nPayZone: Zone A\\nEmployeeClassificationType: Temporary\\nTerminationType: Unk\\nTerminationDescription: \\nDepartmentType: Production\\nDivision: General - Eng\\nDOB: 24-09-1955\\nState: MA\\nJobFunctionDescription: Project Manager\\nGenderCode: Male\\nLocationCode: 19525\\nRaceDesc: Other\\nMaritalDesc: Widowed\\nPerformance Score: Fully Meets\\nCurrent Employee Rating: 4'),\n",
       " Document(metadata={'source': '../data/employee_data.csv', 'row': 2933}, page_content='ï»¿EmpID: 3360\\nFirstName: Fatima\\nLastName: Kemp\\nStartDate: 24-Mar-21\\nExitDate: \\nTitle: Production Technician I\\nSupervisor: Patrick Wood\\nADEmail: fatima.kemp@bilearner.com\\nBusinessUnit: BPC\\nEmployeeStatus: Active\\nEmployeeType: Part-Time\\nPayZone: Zone A\\nEmployeeClassificationType: Part-Time\\nTerminationType: Unk\\nTerminationDescription: \\nDepartmentType: Production\\nDivision: General - Con\\nDOB: 20-05-1974\\nState: MA\\nJobFunctionDescription: Safety\\nGenderCode: Female\\nLocationCode: 4369\\nRaceDesc: Asian\\nMaritalDesc: Married\\nPerformance Score: Exceeds\\nCurrent Employee Rating: 2'),\n",
       " Document(metadata={'source': '../data/employee_data.csv', 'row': 2746}, page_content='ï»¿EmpID: 3173\\nFirstName: Tucker\\nLastName: Sweeney\\nStartDate: 21-Dec-22\\nExitDate: 30-May-23\\nTitle: Production Technician I\\nSupervisor: Gloria Vaughn\\nADEmail: tucker.sweeney@bilearner.com\\nBusinessUnit: PL\\nEmployeeStatus: Active\\nEmployeeType: Contract\\nPayZone: Zone A\\nEmployeeClassificationType: Part-Time\\nTerminationType: Resignation\\nTerminationDescription: Place hear beat.\\nDepartmentType: Production\\nDivision: Billable Consultants\\nDOB: 14-03-1957\\nState: MA\\nJobFunctionDescription: Engineer\\nGenderCode: Female\\nLocationCode: 24597\\nRaceDesc: Asian\\nMaritalDesc: Married\\nPerformance Score: Fully Meets\\nCurrent Employee Rating: 1'),\n",
       " Document(metadata={'source': '../data/employee_data.csv', 'row': 228}, page_content='ï»¿EmpID: 3655\\nFirstName: Martha\\nLastName: Kemp\\nStartDate: 25-Feb-23\\nExitDate: \\nTitle: Production Technician I\\nSupervisor: Shelia Good\\nADEmail: martha.kemp@bilearner.com\\nBusinessUnit: SVG\\nEmployeeStatus: Active\\nEmployeeType: Part-Time\\nPayZone: Zone C\\nEmployeeClassificationType: Full-Time\\nTerminationType: Unk\\nTerminationDescription: \\nDepartmentType: Production\\nDivision: Engineers\\nDOB: 20-10-1998\\nState: MA\\nJobFunctionDescription: Engineer\\nGenderCode: Male\\nLocationCode: 97142\\nRaceDesc: Asian\\nMaritalDesc: Married\\nPerformance Score: Fully Meets\\nCurrent Employee Rating: 3'),\n",
       " Document(metadata={'source': '../data/employee_data.csv', 'row': 1911}, page_content='ï»¿EmpID: 2338\\nFirstName: Ivan\\nLastName: Hull\\nStartDate: 10-Oct-18\\nExitDate: 02-May-22\\nTitle: Production Manager\\nSupervisor: Robert Sullivan\\nADEmail: ivan.hull@bilearner.com\\nBusinessUnit: EW\\nEmployeeStatus: Active\\nEmployeeType: Part-Time\\nPayZone: Zone C\\nEmployeeClassificationType: Temporary\\nTerminationType: Involuntary\\nTerminationDescription: Body move possible play. Relate husband Mrs.\\nDepartmentType: Production\\nDivision: Project Management - Con\\nDOB: 06-08-1971\\nState: MA\\nJobFunctionDescription: Supervisor\\nGenderCode: Female\\nLocationCode: 6536\\nRaceDesc: Other\\nMaritalDesc: Married\\nPerformance Score: Fully Meets\\nCurrent Employee Rating: 4'),\n",
       " Document(metadata={'source': '../data/employee_data.csv', 'row': 2005}, page_content='ï»¿EmpID: 2432\\nFirstName: Rayna\\nLastName: Gates\\nStartDate: 10-Feb-23\\nExitDate: 24-Apr-23\\nTitle: Production Manager\\nSupervisor: William Castillo\\nADEmail: rayna.gates@bilearner.com\\nBusinessUnit: EW\\nEmployeeStatus: Voluntarily Terminated\\nEmployeeType: Contract\\nPayZone: Zone C\\nEmployeeClassificationType: Full-Time\\nTerminationType: Retirement\\nTerminationDescription: Leader specific wife appear art they.\\nDepartmentType: Production\\nDivision: Yard (Material Handling)\\nDOB: 18-04-1963\\nState: MA\\nJobFunctionDescription: Shop\\nGenderCode: Female\\nLocationCode: 44133\\nRaceDesc: Asian\\nMaritalDesc: Married\\nPerformance Score: Fully Meets\\nCurrent Employee Rating: 2')]"
      ]
     },
     "execution_count": 23,
     "metadata": {},
     "output_type": "execute_result"
    }
   ],
   "source": [
    "# 10 documents retrieved confirmed\n",
    "retriever.invoke(\"Which married employees have best performance?\")"
   ]
  },
  {
   "cell_type": "code",
   "execution_count": 24,
   "metadata": {},
   "outputs": [],
   "source": [
    "response = csvloader_rag_chain.invoke(\"Which married employees have best performance?\")"
   ]
  },
  {
   "cell_type": "code",
   "execution_count": 25,
   "metadata": {},
   "outputs": [
    {
     "name": "stdout",
     "output_type": "stream",
     "text": [
      " Lin Chan and Michael Albert, both Married employees, have a Performance Score of \"Fully Meets\" and Current Employee Rating of 3 and 2 respectively.\n"
     ]
    }
   ],
   "source": [
    "print(response)"
   ]
  },
  {
   "cell_type": "markdown",
   "metadata": {},
   "source": [
    "For Chain Working Explanation, refer to bottom of file chroma_rag_hface_csv.ipynb"
   ]
  },
  {
   "cell_type": "code",
   "execution_count": null,
   "metadata": {},
   "outputs": [],
   "source": []
  }
 ],
 "metadata": {
  "kernelspec": {
   "display_name": "venv",
   "language": "python",
   "name": "python3"
  },
  "language_info": {
   "codemirror_mode": {
    "name": "ipython",
    "version": 3
   },
   "file_extension": ".py",
   "mimetype": "text/x-python",
   "name": "python",
   "nbconvert_exporter": "python",
   "pygments_lexer": "ipython3",
   "version": "3.12.5"
  }
 },
 "nbformat": 4,
 "nbformat_minor": 2
}
