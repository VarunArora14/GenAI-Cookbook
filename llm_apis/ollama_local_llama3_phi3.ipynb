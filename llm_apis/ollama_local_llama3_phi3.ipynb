{
 "cells": [
  {
   "cell_type": "markdown",
   "metadata": {},
   "source": [
    "### Initial Steps\n",
    "\n",
    "- Create a virtual environment with langchain and other packages in requirements.txt\n",
    "- Install ollama on your system\n",
    "- Run ollama and in command line download the models via line `ollama run modelName:version` (ex: `ollama run llama3.1` which is 8b by default, `ollama run phi3` which runs phi3 3.8B model)\n",
    "- After ensuring their installation and running in command line, run the below code\n",
    "\n",
    "References - \n",
    "- https://ollama.com/library/llama3.1\n",
    "- https://ollama.com/library/phi3\n"
   ]
  },
  {
   "cell_type": "code",
   "execution_count": 3,
   "metadata": {},
   "outputs": [
    {
     "name": "stdout",
     "output_type": "stream",
     "text": [
      "Note: you may need to restart the kernel to use updated packages.\n"
     ]
    }
   ],
   "source": [
    "%pip install -q langchain-ollama"
   ]
  },
  {
   "cell_type": "markdown",
   "metadata": {},
   "source": [
    "### LLAMA 3.1 8B\n",
    "\n",
    "Heavier to run than phi3"
   ]
  },
  {
   "cell_type": "code",
   "execution_count": 10,
   "metadata": {},
   "outputs": [],
   "source": [
    "from langchain_core.prompts import ChatPromptTemplate\n",
    "from langchain_ollama.chat_models import ChatOllama # using the chat model\n",
    "\n",
    "template = \"\"\"Question: {question}\n",
    "\n",
    "Answer: Give detailed answer in bullet points\"\"\"\n",
    "\n",
    "prompt = ChatPromptTemplate.from_template(template)\n",
    "\n",
    "llama_model = ChatOllama(model=\"llama3.1\")\n",
    "\n",
    "llama_chain = prompt | llama_model\n",
    "\n",
    "llama_response = llama_chain.invoke({\"question\": \"What is CI/CD?\"})"
   ]
  },
  {
   "cell_type": "code",
   "execution_count": 11,
   "metadata": {},
   "outputs": [
    {
     "name": "stdout",
     "output_type": "stream",
     "text": [
      "**CI/CD (Continuous Integration and Continuous Deployment)**\n",
      "\n",
      "CI/CD is a software development practice that aims to reduce the time and increase the frequency of releases in a production environment by automating various tasks, such as building, testing, and deploying code changes. Here's a detailed explanation of CI/CD in bullet points:\n",
      "\n",
      "**Key Components:**\n",
      "\n",
      "* **Continuous Integration (CI):**\n",
      "\t+ Automates the integration of code changes from multiple developers into a single repository.\n",
      "\t+ Runs automated tests after each code change to ensure it works as expected.\n",
      "\t+ Identifies and fixes issues early, reducing the risk of downstream problems.\n",
      "* **Continuous Deployment (CD):**\n",
      "\t+ Automatically deploys code changes to production environments after passing CI checks.\n",
      "\t+ Reduces the time and effort required for manual deployments.\n",
      "\t+ Enables teams to respond quickly to changing customer needs.\n",
      "\n",
      "**Benefits:**\n",
      "\n",
      "* **Faster Time-to-Market:** Automates the release process, reducing the time between code check-in and deployment.\n",
      "* **Improved Quality:** Runs automated tests to ensure code quality and catch issues early.\n",
      "* **Increased Efficiency:** Reduces manual effort required for deployments, freeing up resources for innovation.\n",
      "* **Better Collaboration:** Encourages collaboration among development teams and stakeholders.\n",
      "\n",
      "**CI/CD Pipeline:**\n",
      "\n",
      "A CI/CD pipeline typically consists of the following stages:\n",
      "\n",
      "1. **Code Commit:** Developers commit code changes to a version control system (e.g., Git).\n",
      "2. **Build:** Automated scripts compile the code into a deployable format (e.g., executable, container image).\n",
      "3. **Test:** Automated tests run on the built code to ensure it meets quality standards.\n",
      "4. **Deployment:** Deployed code is automatically pushed to production environments.\n",
      "5. **Monitoring:** Continuous monitoring and feedback loops help teams refine the pipeline.\n",
      "\n",
      "**Tools and Technologies:**\n",
      "\n",
      "CI/CD tools and technologies include:\n",
      "\n",
      "* Jenkins, GitLab CI/CD, CircleCI, Travis CI (CI/CD platforms)\n",
      "* Docker, Kubernetes (containerization and orchestration)\n",
      "* Jira, Trello, Asana (agile project management and issue tracking)\n",
      "\n",
      "By adopting a CI/CD approach, organizations can improve software delivery speed, quality, and efficiency, ultimately driving business success.\n"
     ]
    }
   ],
   "source": [
    "print(llama_response.content)"
   ]
  },
  {
   "cell_type": "code",
   "execution_count": 12,
   "metadata": {},
   "outputs": [
    {
     "data": {
      "text/plain": [
       "{'content': \"**CI/CD (Continuous Integration and Continuous Deployment)**\\n\\nCI/CD is a software development practice that aims to reduce the time and increase the frequency of releases in a production environment by automating various tasks, such as building, testing, and deploying code changes. Here's a detailed explanation of CI/CD in bullet points:\\n\\n**Key Components:**\\n\\n* **Continuous Integration (CI):**\\n\\t+ Automates the integration of code changes from multiple developers into a single repository.\\n\\t+ Runs automated tests after each code change to ensure it works as expected.\\n\\t+ Identifies and fixes issues early, reducing the risk of downstream problems.\\n* **Continuous Deployment (CD):**\\n\\t+ Automatically deploys code changes to production environments after passing CI checks.\\n\\t+ Reduces the time and effort required for manual deployments.\\n\\t+ Enables teams to respond quickly to changing customer needs.\\n\\n**Benefits:**\\n\\n* **Faster Time-to-Market:** Automates the release process, reducing the time between code check-in and deployment.\\n* **Improved Quality:** Runs automated tests to ensure code quality and catch issues early.\\n* **Increased Efficiency:** Reduces manual effort required for deployments, freeing up resources for innovation.\\n* **Better Collaboration:** Encourages collaboration among development teams and stakeholders.\\n\\n**CI/CD Pipeline:**\\n\\nA CI/CD pipeline typically consists of the following stages:\\n\\n1. **Code Commit:** Developers commit code changes to a version control system (e.g., Git).\\n2. **Build:** Automated scripts compile the code into a deployable format (e.g., executable, container image).\\n3. **Test:** Automated tests run on the built code to ensure it meets quality standards.\\n4. **Deployment:** Deployed code is automatically pushed to production environments.\\n5. **Monitoring:** Continuous monitoring and feedback loops help teams refine the pipeline.\\n\\n**Tools and Technologies:**\\n\\nCI/CD tools and technologies include:\\n\\n* Jenkins, GitLab CI/CD, CircleCI, Travis CI (CI/CD platforms)\\n* Docker, Kubernetes (containerization and orchestration)\\n* Jira, Trello, Asana (agile project management and issue tracking)\\n\\nBy adopting a CI/CD approach, organizations can improve software delivery speed, quality, and efficiency, ultimately driving business success.\",\n",
       " 'additional_kwargs': {},\n",
       " 'response_metadata': {'model': 'llama3.1',\n",
       "  'created_at': '2024-09-06T10:44:43.6778447Z',\n",
       "  'message': {'role': 'assistant', 'content': ''},\n",
       "  'done_reason': 'stop',\n",
       "  'done': True,\n",
       "  'total_duration': 181917486300,\n",
       "  'load_duration': 3900814400,\n",
       "  'prompt_eval_count': 27,\n",
       "  'prompt_eval_duration': 7089743000,\n",
       "  'eval_count': 459,\n",
       "  'eval_duration': 170925231000},\n",
       " 'type': 'ai',\n",
       " 'name': None,\n",
       " 'id': 'run-35ad6b59-2866-46a9-8a30-7c7288971332-0',\n",
       " 'example': False,\n",
       " 'tool_calls': [],\n",
       " 'invalid_tool_calls': [],\n",
       " 'usage_metadata': {'input_tokens': 27,\n",
       "  'output_tokens': 459,\n",
       "  'total_tokens': 486}}"
      ]
     },
     "execution_count": 12,
     "metadata": {},
     "output_type": "execute_result"
    }
   ],
   "source": [
    "llama_response.__dict__"
   ]
  },
  {
   "cell_type": "markdown",
   "metadata": {},
   "source": [
    "### Phi3 mini 3.8B"
   ]
  },
  {
   "cell_type": "code",
   "execution_count": 6,
   "metadata": {},
   "outputs": [],
   "source": [
    "from langchain_core.prompts import ChatPromptTemplate\n",
    "from langchain_ollama.chat_models import ChatOllama # using the chat model\n",
    "\n",
    "template = \"\"\"Question: {question}\n",
    "\n",
    "Answer: Give detailed answer in bullet points\"\"\"\n",
    "\n",
    "prompt = ChatPromptTemplate.from_template(template)\n",
    "\n",
    "phi3_model = ChatOllama(model=\"phi3\")\n",
    "\n",
    "phi3_chain = prompt | phi3_model\n",
    "\n",
    "phi3_response = phi3_chain.invoke({\"question\": \"What is CI/CD?\"})"
   ]
  },
  {
   "cell_type": "code",
   "execution_count": 8,
   "metadata": {},
   "outputs": [
    {
     "name": "stdout",
     "output_type": "stream",
     "text": [
      "- Continuous Integration (CI) refers to the practice where developers integrate their code changes into a shared repository frequently, often multiple times per day. This ensures that there'simmediate feedback on whether any new integration introduces errors or issues and facilitates collaboration among team members working in parallel development paths by preventing divergent lines of work from causing complications later during the build process. \n",
      "- Continuous Delivery (CD) is a concept closely related to CI but goes beyond just detecting bugs— it ensures that code changes can be released to production at any time with no additional steps, allowing for quicker and more frequent releases of software in an automated manner. It often includes testing stages before deployment which are designed as part of the pipeline rather than as separate processes post-integration phase. \n",
      "- Both CI/CD aims towards streamlining the development process to achieve faster delivery times without compromising on quality assurance and reliability, ensuring that every change made is thoroughly tested at various levels—from unit tests, integration testing up until load or stress testing before any code reaches production environments for actual users.\n",
      "- These concepts also promote a culture of shared responsibility among all team members in the software development lifecycle as each person takes ownership over their contribution and its impact on overall product quality from start to finish while encouraging constant communication within teams about problems, improvements, or new ideas regarding products they develop together with frequent code reviews.\n",
      "- Automation plays an integral role in CI/CD pipelines -automated tools are employed which automatically run tests (unit testing), validate and build the application using source control repositories; if all criteria is met then it moves on to deployment stages where automated scripts deploy artifacts or binaries created during building process into target environments like staging areas for further manual approval before releasing them live.\n",
      "- These practices have been proven essential in large organizations dealing with complex projects and multiple teams working simultaneously as they help minimize human error while reducing time to market thus giving an edge over competition by providing better user experiences through faster releases of innovations developed collaboratively across various specializations within the enterprise itself rather than having individualized silos where progress may be stagnated due lack cohesion among colleagues working towards common goals simultaneously .\n",
      "- Continuous integration and delivery have become increasingly popular in modern software development practices as they help teams deliver high quality products more efficiently while ensuring consistent feedback loops within team members leading to better understanding of shared responsibility over every code segment being developed collectively alongside their impact on overall end product.\n"
     ]
    }
   ],
   "source": [
    "print(phi3_response.content)"
   ]
  },
  {
   "cell_type": "code",
   "execution_count": 9,
   "metadata": {},
   "outputs": [
    {
     "data": {
      "text/plain": [
       "{'content': \"- Continuous Integration (CI) refers to the practice where developers integrate their code changes into a shared repository frequently, often multiple times per day. This ensures that there'simmediate feedback on whether any new integration introduces errors or issues and facilitates collaboration among team members working in parallel development paths by preventing divergent lines of work from causing complications later during the build process. \\n- Continuous Delivery (CD) is a concept closely related to CI but goes beyond just detecting bugs— it ensures that code changes can be released to production at any time with no additional steps, allowing for quicker and more frequent releases of software in an automated manner. It often includes testing stages before deployment which are designed as part of the pipeline rather than as separate processes post-integration phase. \\n- Both CI/CD aims towards streamlining the development process to achieve faster delivery times without compromising on quality assurance and reliability, ensuring that every change made is thoroughly tested at various levels—from unit tests, integration testing up until load or stress testing before any code reaches production environments for actual users.\\n- These concepts also promote a culture of shared responsibility among all team members in the software development lifecycle as each person takes ownership over their contribution and its impact on overall product quality from start to finish while encouraging constant communication within teams about problems, improvements, or new ideas regarding products they develop together with frequent code reviews.\\n- Automation plays an integral role in CI/CD pipelines -automated tools are employed which automatically run tests (unit testing), validate and build the application using source control repositories; if all criteria is met then it moves on to deployment stages where automated scripts deploy artifacts or binaries created during building process into target environments like staging areas for further manual approval before releasing them live.\\n- These practices have been proven essential in large organizations dealing with complex projects and multiple teams working simultaneously as they help minimize human error while reducing time to market thus giving an edge over competition by providing better user experiences through faster releases of innovations developed collaboratively across various specializations within the enterprise itself rather than having individualized silos where progress may be stagnated due lack cohesion among colleagues working towards common goals simultaneously .\\n- Continuous integration and delivery have become increasingly popular in modern software development practices as they help teams deliver high quality products more efficiently while ensuring consistent feedback loops within team members leading to better understanding of shared responsibility over every code segment being developed collectively alongside their impact on overall end product.\",\n",
       " 'additional_kwargs': {},\n",
       " 'response_metadata': {'model': 'phi3',\n",
       "  'created_at': '2024-09-06T10:40:47.6350504Z',\n",
       "  'message': {'role': 'assistant', 'content': ''},\n",
       "  'done_reason': 'stop',\n",
       "  'done': True,\n",
       "  'total_duration': 50198224900,\n",
       "  'load_duration': 7325400,\n",
       "  'prompt_eval_count': 27,\n",
       "  'prompt_eval_duration': 1568884000,\n",
       "  'eval_count': 532,\n",
       "  'eval_duration': 48620949000},\n",
       " 'type': 'ai',\n",
       " 'name': None,\n",
       " 'id': 'run-1872dcc8-9039-4860-8756-e0978ca557d5-0',\n",
       " 'example': False,\n",
       " 'tool_calls': [],\n",
       " 'invalid_tool_calls': [],\n",
       " 'usage_metadata': {'input_tokens': 27,\n",
       "  'output_tokens': 532,\n",
       "  'total_tokens': 559}}"
      ]
     },
     "execution_count": 9,
     "metadata": {},
     "output_type": "execute_result"
    }
   ],
   "source": [
    "phi3_response.__dict__"
   ]
  },
  {
   "cell_type": "code",
   "execution_count": 13,
   "metadata": {},
   "outputs": [],
   "source": [
    "phi3_k8s = phi3_chain.invoke({\"question\": \"What is Kubernetes?\"})"
   ]
  },
  {
   "cell_type": "code",
   "execution_count": null,
   "metadata": {},
   "outputs": [],
   "source": []
  }
 ],
 "metadata": {
  "kernelspec": {
   "display_name": "venv",
   "language": "python",
   "name": "python3"
  },
  "language_info": {
   "codemirror_mode": {
    "name": "ipython",
    "version": 3
   },
   "file_extension": ".py",
   "mimetype": "text/x-python",
   "name": "python",
   "nbconvert_exporter": "python",
   "pygments_lexer": "ipython3",
   "version": "3.12.5"
  }
 },
 "nbformat": 4,
 "nbformat_minor": 2
}
