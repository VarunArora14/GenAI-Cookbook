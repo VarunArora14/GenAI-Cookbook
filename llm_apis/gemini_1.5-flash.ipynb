{
 "cells": [
  {
   "cell_type": "code",
   "execution_count": 2,
   "metadata": {},
   "outputs": [
    {
     "name": "stderr",
     "output_type": "stream",
     "text": [
      "d:\\VS Code\\python\\dsa_projects\\build_agents\\venv\\Lib\\site-packages\\tqdm\\auto.py:21: TqdmWarning: IProgress not found. Please update jupyter and ipywidgets. See https://ipywidgets.readthedocs.io/en/stable/user_install.html\n",
      "  from .autonotebook import tqdm as notebook_tqdm\n"
     ]
    }
   ],
   "source": [
    "from langchain_google_genai import ChatGoogleGenerativeAI\n",
    "from langchain_community.embeddings.sentence_transformer import SentenceTransformerEmbeddings\n",
    "from langchain_chroma import Chroma\n",
    "import os\n",
    "from dotenv import load_dotenv"
   ]
  },
  {
   "cell_type": "markdown",
   "metadata": {},
   "source": [
    "API reference - https://python.langchain.com/v0.2/api_reference/google_genai/chat_models/langchain_google_genai.chat_models.ChatGoogleGenerativeAI.html\n",
    "\n",
    "Generate Google API Key - https://ai.google.dev/gemini-api/docs/api-key"
   ]
  },
  {
   "cell_type": "code",
   "execution_count": 3,
   "metadata": {},
   "outputs": [],
   "source": [
    "GOOGLE_API_KEY = os.environ[\"GOOGLE_API_KEY\"]\n",
    "llm = ChatGoogleGenerativeAI(model=\"gemini-1.5-flash-latest\", temperature=0.7, max_retries=3)"
   ]
  },
  {
   "cell_type": "code",
   "execution_count": 4,
   "metadata": {},
   "outputs": [
    {
     "data": {
      "text/plain": [
       "AIMessage(content='The current President of Ireland is **Michael D. Higgins**. He has been in office since November 2011 and is currently serving his second term. \\n', response_metadata={'prompt_feedback': {'block_reason': 0, 'safety_ratings': []}, 'finish_reason': 'STOP', 'safety_ratings': [{'category': 'HARM_CATEGORY_SEXUALLY_EXPLICIT', 'probability': 'NEGLIGIBLE', 'blocked': False}, {'category': 'HARM_CATEGORY_HATE_SPEECH', 'probability': 'NEGLIGIBLE', 'blocked': False}, {'category': 'HARM_CATEGORY_HARASSMENT', 'probability': 'NEGLIGIBLE', 'blocked': False}, {'category': 'HARM_CATEGORY_DANGEROUS_CONTENT', 'probability': 'NEGLIGIBLE', 'blocked': False}]}, id='run-44a6ef7a-53cf-45cc-86d5-6868065ea076-0', usage_metadata={'input_tokens': 7, 'output_tokens': 32, 'total_tokens': 39})"
      ]
     },
     "execution_count": 4,
     "metadata": {},
     "output_type": "execute_result"
    }
   ],
   "source": [
    "llm.invoke(\"Who is president of ireland?\")"
   ]
  },
  {
   "cell_type": "markdown",
   "metadata": {},
   "source": [
    "The response is of type `AIMessage` and contains `response_metadata` field by default which can be helpful to analyze output and has token information"
   ]
  },
  {
   "cell_type": "code",
   "execution_count": 5,
   "metadata": {},
   "outputs": [],
   "source": [
    "from langchain_core.prompts import PromptTemplate\n",
    "\n",
    "question = \"What are pros and cons of using Kubernetes?\"\n",
    "\n",
    "template = \"\"\"Question: {question}\n",
    "\n",
    "Answer: Give detailed and technical answer in bullet points\"\"\"\n",
    "\n",
    "prompt  = PromptTemplate.from_template(template)\n",
    "gemini_chain = prompt | llm"
   ]
  },
  {
   "cell_type": "markdown",
   "metadata": {},
   "source": [
    "#### Text answer of Gemini"
   ]
  },
  {
   "cell_type": "code",
   "execution_count": 6,
   "metadata": {},
   "outputs": [
    {
     "name": "stdout",
     "output_type": "stream",
     "text": [
      "## Kubernetes: Pros and Cons\n",
      "\n",
      "**Pros:**\n",
      "\n",
      "* **Automated Deployment and Rollouts:** Kubernetes automates container deployments, rollouts, and rollbacks, ensuring smooth and predictable updates. It can handle blue-green deployments, canary releases, and other advanced rollout strategies. \n",
      "* **Scalability and High Availability:** Kubernetes allows for easy scaling of applications based on demand. It can automatically add or remove container instances, ensuring optimal resource utilization and high availability. \n",
      "* **Self-Healing:** Kubernetes monitors container health and automatically restarts or replaces unhealthy containers. It also handles node failures, ensuring continuous application availability.\n",
      "* **Resource Management:** Kubernetes efficiently manages container resources, including CPU, memory, and storage. It optimizes resource allocation and prevents resource contention.\n",
      "* **Service Discovery and Load Balancing:** Kubernetes provides automatic service discovery and load balancing, making it easy for applications to communicate with each other and for users to access services.\n",
      "* **Declarative Configuration:** Kubernetes uses declarative configuration, allowing users to define the desired state of their applications instead of the specific steps to achieve it. This simplifies management and reduces errors.\n",
      "* **Open Source and Community Support:** Kubernetes is an open-source platform with a large and active community. This provides access to a wealth of resources, documentation, and support.\n",
      "* **Container Orchestration:** Kubernetes orchestrates container lifecycles, including starting, stopping, and managing containers. It ensures that containers are running in a healthy and consistent state.\n",
      "* **Security:** Kubernetes offers various security features, including network policies, role-based access control, and container security profiles. \n",
      "* **Multi-Cloud and Hybrid Cloud Support:** Kubernetes is designed to run on various cloud platforms and on-premises infrastructure, making it suitable for multi-cloud and hybrid cloud deployments.\n",
      "\n",
      "**Cons:**\n",
      "\n",
      "* **Complexity:** Kubernetes can be complex to learn and manage, especially for beginners. Understanding its concepts, components, and configurations requires significant effort.\n",
      "* **Learning Curve:** Mastering Kubernetes requires a steep learning curve, including understanding YAML, containerization, and cloud infrastructure.\n",
      "* **Operational Overhead:** Managing Kubernetes clusters requires significant operational overhead, including monitoring, maintenance, and troubleshooting.\n",
      "* **Resource Consumption:** Kubernetes itself consumes resources, which can impact overall performance. It requires sufficient infrastructure resources to run effectively.\n",
      "* **Vendor Lock-in:** While Kubernetes is open-source, some vendors offer proprietary extensions and tools that can create vendor lock-in.\n",
      "* **Limited Debugging Tools:** Debugging issues in Kubernetes can be challenging due to the distributed nature of the platform and limited debugging tools.\n",
      "* **Security Concerns:** Kubernetes, like any complex software, is susceptible to security vulnerabilities. It requires careful security configuration and monitoring.\n",
      "* **Cost:** Deploying and managing Kubernetes clusters can be costly, especially in large-scale environments. \n",
      "\n",
      "**Overall:**\n",
      "\n",
      "Kubernetes is a powerful and versatile platform for container orchestration, offering numerous advantages for modern applications. However, its complexity and operational overhead require careful consideration before adoption.\n",
      "\n"
     ]
    }
   ],
   "source": [
    "response = gemini_chain.invoke({\"question\":question})\n",
    "print(response.content)"
   ]
  },
  {
   "cell_type": "markdown",
   "metadata": {},
   "source": [
    "#### Schema of Gemini Response"
   ]
  },
  {
   "cell_type": "code",
   "execution_count": 7,
   "metadata": {},
   "outputs": [
    {
     "data": {
      "text/plain": [
       "{'content': '## Kubernetes: Pros and Cons\\n\\n**Pros:**\\n\\n* **Automated Deployment and Rollouts:** Kubernetes automates container deployments, rollouts, and rollbacks, ensuring smooth and predictable updates. It can handle blue-green deployments, canary releases, and other advanced rollout strategies. \\n* **Scalability and High Availability:** Kubernetes allows for easy scaling of applications based on demand. It can automatically add or remove container instances, ensuring optimal resource utilization and high availability. \\n* **Self-Healing:** Kubernetes monitors container health and automatically restarts or replaces unhealthy containers. It also handles node failures, ensuring continuous application availability.\\n* **Resource Management:** Kubernetes efficiently manages container resources, including CPU, memory, and storage. It optimizes resource allocation and prevents resource contention.\\n* **Service Discovery and Load Balancing:** Kubernetes provides automatic service discovery and load balancing, making it easy for applications to communicate with each other and for users to access services.\\n* **Declarative Configuration:** Kubernetes uses declarative configuration, allowing users to define the desired state of their applications instead of the specific steps to achieve it. This simplifies management and reduces errors.\\n* **Open Source and Community Support:** Kubernetes is an open-source platform with a large and active community. This provides access to a wealth of resources, documentation, and support.\\n* **Container Orchestration:** Kubernetes orchestrates container lifecycles, including starting, stopping, and managing containers. It ensures that containers are running in a healthy and consistent state.\\n* **Security:** Kubernetes offers various security features, including network policies, role-based access control, and container security profiles. \\n* **Multi-Cloud and Hybrid Cloud Support:** Kubernetes is designed to run on various cloud platforms and on-premises infrastructure, making it suitable for multi-cloud and hybrid cloud deployments.\\n\\n**Cons:**\\n\\n* **Complexity:** Kubernetes can be complex to learn and manage, especially for beginners. Understanding its concepts, components, and configurations requires significant effort.\\n* **Learning Curve:** Mastering Kubernetes requires a steep learning curve, including understanding YAML, containerization, and cloud infrastructure.\\n* **Operational Overhead:** Managing Kubernetes clusters requires significant operational overhead, including monitoring, maintenance, and troubleshooting.\\n* **Resource Consumption:** Kubernetes itself consumes resources, which can impact overall performance. It requires sufficient infrastructure resources to run effectively.\\n* **Vendor Lock-in:** While Kubernetes is open-source, some vendors offer proprietary extensions and tools that can create vendor lock-in.\\n* **Limited Debugging Tools:** Debugging issues in Kubernetes can be challenging due to the distributed nature of the platform and limited debugging tools.\\n* **Security Concerns:** Kubernetes, like any complex software, is susceptible to security vulnerabilities. It requires careful security configuration and monitoring.\\n* **Cost:** Deploying and managing Kubernetes clusters can be costly, especially in large-scale environments. \\n\\n**Overall:**\\n\\nKubernetes is a powerful and versatile platform for container orchestration, offering numerous advantages for modern applications. However, its complexity and operational overhead require careful consideration before adoption.\\n',\n",
       " 'additional_kwargs': {},\n",
       " 'response_metadata': {'prompt_feedback': {'block_reason': 0,\n",
       "   'safety_ratings': []},\n",
       "  'finish_reason': 'STOP',\n",
       "  'safety_ratings': [{'category': 'HARM_CATEGORY_SEXUALLY_EXPLICIT',\n",
       "    'probability': 'NEGLIGIBLE',\n",
       "    'blocked': False},\n",
       "   {'category': 'HARM_CATEGORY_HATE_SPEECH',\n",
       "    'probability': 'NEGLIGIBLE',\n",
       "    'blocked': False},\n",
       "   {'category': 'HARM_CATEGORY_HARASSMENT',\n",
       "    'probability': 'NEGLIGIBLE',\n",
       "    'blocked': False},\n",
       "   {'category': 'HARM_CATEGORY_DANGEROUS_CONTENT',\n",
       "    'probability': 'NEGLIGIBLE',\n",
       "    'blocked': False}]},\n",
       " 'type': 'ai',\n",
       " 'name': None,\n",
       " 'id': 'run-f294c20e-492d-4f8b-af74-347f7ded59a8-0',\n",
       " 'example': False,\n",
       " 'tool_calls': [],\n",
       " 'invalid_tool_calls': [],\n",
       " 'usage_metadata': {'input_tokens': 23,\n",
       "  'output_tokens': 617,\n",
       "  'total_tokens': 640}}"
      ]
     },
     "execution_count": 7,
     "metadata": {},
     "output_type": "execute_result"
    }
   ],
   "source": [
    "response.__dict__"
   ]
  },
  {
   "cell_type": "code",
   "execution_count": null,
   "metadata": {},
   "outputs": [],
   "source": []
  }
 ],
 "metadata": {
  "kernelspec": {
   "display_name": "venv",
   "language": "python",
   "name": "python3"
  },
  "language_info": {
   "codemirror_mode": {
    "name": "ipython",
    "version": 3
   },
   "file_extension": ".py",
   "mimetype": "text/x-python",
   "name": "python",
   "nbconvert_exporter": "python",
   "pygments_lexer": "ipython3",
   "version": "3.12.5"
  }
 },
 "nbformat": 4,
 "nbformat_minor": 2
}
