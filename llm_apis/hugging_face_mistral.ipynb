{
 "cells": [
  {
   "cell_type": "markdown",
   "metadata": {},
   "source": [
    "### We can use hugging face inference APIs to invoke models and build pipelines with them\n",
    "\n",
    "#### Steps\n",
    "\n",
    "- Go to hugging face and login\n",
    "- Go to your profile => Settings => Access Tokens\n",
    "- Generate access token and store it in the .env file as `HUGGINGFACEHUB_API_TOKEN=<token_value>`\n",
    "- Create virtual environment using requirements.txt and run the below code"
   ]
  },
  {
   "cell_type": "code",
   "execution_count": 1,
   "metadata": {},
   "outputs": [],
   "source": [
    "import os\n",
    "from dotenv import load_dotenv\n",
    "\n",
    "huggingface_api_key = os.environ['HUGGINGFACEHUB_API_TOKEN']"
   ]
  },
  {
   "cell_type": "markdown",
   "metadata": {},
   "source": [
    "### Using Mistral 7B instruct using inference API (200 reqs per hour limit)\n",
    "\n",
    "Multiple models can be accessed from location - https://api-inference.huggingface.co/models/"
   ]
  },
  {
   "cell_type": "code",
   "execution_count": 13,
   "metadata": {},
   "outputs": [
    {
     "name": "stdout",
     "output_type": "stream",
     "text": [
      "The token has not been saved to the git credentials helper. Pass `add_to_git_credential=True` in this function directly or `--add-to-git-credential` if using via `huggingface-cli` if you want to set the git credential as well.\n",
      "Token is valid (permission: fineGrained).\n",
      "Your token has been saved to C:\\Users\\VARUN ARORA\\.cache\\huggingface\\token\n",
      "Login successful\n"
     ]
    }
   ],
   "source": [
    "from langchain_community.llms import HuggingFaceEndpoint\n",
    "from langchain_core.prompts import PromptTemplate\n",
    "\n",
    "mistral_repo_id = \"mistralai/Mistral-7B-Instruct-v0.2\"\n",
    "\n",
    "question = \"How to make pizza?\"\n",
    "\n",
    "template = \"\"\"Question: {question}\n",
    "\n",
    "Answer: Let's think step by step.\"\"\"\n",
    "\n",
    "prompt = PromptTemplate.from_template(template=template)\n",
    "\n",
    "mistral_llm  = HuggingFaceEndpoint(repo_id=mistral_repo_id, temperature=0.7)\n",
    "\n",
    "mistral_chain = prompt | mistral_llm"
   ]
  },
  {
   "cell_type": "code",
   "execution_count": 15,
   "metadata": {},
   "outputs": [
    {
     "name": "stdout",
     "output_type": "stream",
     "text": [
      " Here's a simple way to make pizza at home:\n",
      "\n",
      "Ingredients:\n",
      "- Pizza Dough: You can buy it pre-made, or make your own using flour, water, yeast, and salt.\n",
      "- Tomato Sauce: Homemade or store-bought will work.\n",
      "- Toppings: Mozzarella cheese, pepperoni, mushrooms, bell peppers, onions, olives, etc.\n",
      "- Olive Oil\n",
      "- Salt\n",
      "- Cornmeal\n",
      "\n",
      "Steps:\n",
      "1. Preheat your oven to its highest temperature, usually around 500°F (260°C). If you have a pizza stone, place it in the oven now.\n",
      "\n",
      "2. Roll out the pizza dough on a lightly floured surface into a circle about 12 inches in diameter. Brush the top lightly with olive oil.\n",
      "\n",
      "3. Sprinkle cornmeal on a baking sheet or pizza peel. Transfer the dough to the sheet or peel.\n",
      "\n",
      "4. Spread a thin layer of tomato sauce over the dough, leaving a small border around the edges. Sprinkle with a light layer of salt.\n",
      "\n",
      "5. Add your toppings, starting with the cheese and ending with any delicate toppings like basil or arugula.\n",
      "\n",
      "6. Drizzle the pizza with olive oil.\n",
      "\n",
      "7. Bake the pizza in the preheated oven until the crust is golden brown and the cheese is bubbly and slightly browned, usually about 10-15 minutes. If using a pizza stone, slide the pizza directly onto the stone. If using a baking sheet, be sure to use a peel to transfer it in and out of the oven.\n",
      "\n",
      "8. Remove from oven and let cool for a few minutes before slicing and serving. Enjoy!\n",
      "\n",
      "Note: Feel free to get creative with your toppings and sauce. Pizza is a versatile dish that can accommodate many different tastes.\n"
     ]
    }
   ],
   "source": [
    "response = mistral_chain.invoke({\"question\": question})\n",
    "print(response)"
   ]
  },
  {
   "cell_type": "code",
   "execution_count": null,
   "metadata": {},
   "outputs": [],
   "source": []
  }
 ],
 "metadata": {
  "kernelspec": {
   "display_name": "venv",
   "language": "python",
   "name": "python3"
  },
  "language_info": {
   "codemirror_mode": {
    "name": "ipython",
    "version": 3
   },
   "file_extension": ".py",
   "mimetype": "text/x-python",
   "name": "python",
   "nbconvert_exporter": "python",
   "pygments_lexer": "ipython3",
   "version": "3.12.5"
  }
 },
 "nbformat": 4,
 "nbformat_minor": 2
}
